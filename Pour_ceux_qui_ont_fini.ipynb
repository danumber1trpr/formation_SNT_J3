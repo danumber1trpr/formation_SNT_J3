{
 "cells": [
  {
   "cell_type": "markdown",
   "metadata": {},
   "source": [
    "# Pour les plus rapides ..."
   ]
  },
  {
   "cell_type": "markdown",
   "metadata": {},
   "source": [
    "## Exercice 1\n",
    "\n",
    "Nous allons réutiliser la fonction <code>chiffrer_dec</code> vue dans le notebook <code>constructions_elementaires_2_sur_2</code> :"
   ]
  },
  {
   "cell_type": "code",
   "execution_count": 1,
   "metadata": {},
   "outputs": [
    {
     "data": {
      "text/plain": [
       "'cpokpvs'"
      ]
     },
     "execution_count": 1,
     "metadata": {},
     "output_type": "execute_result"
    }
   ],
   "source": [
    "import string\n",
    "\n",
    "def car_suivant(car):\n",
    "    ''' \n",
    "    Etant donné un caractère en minuscule car, retourne le caractère suivant dans l\\'alphabet.\n",
    "    Sauf si car=\"z\", dans ce cas retourne le caractère \"a\"\n",
    "    ''' \n",
    "    numero_entree = string.ascii_lowercase.index(car) #on récupère le numéro du caractère dans l'aphabet\n",
    "    if numero_entree == 25:                 #selon le numéro du caractère, on calcule le numéro du caractère suivant\n",
    "        numero_sortie = 0\n",
    "    else:\n",
    "        numero_sortie = numero_entree + 1\n",
    "    caractere_sortie = string.ascii_lowercase[numero_sortie]  #on récupère le caractère correspondant au numéro suivant.\n",
    "    return caractere_sortie\n",
    "\n",
    "def chiffrer_dec(S):\n",
    "    '''\n",
    "    Retourne une chaîne de caractères obtenue en chiffrant la chaîne de caractères S par décalage de une unité, \n",
    "    '''\n",
    "    S_sortie = \"\"\n",
    "    for car in S:\n",
    "        S_sortie = S_sortie + car_suivant(car)\n",
    "    return S_sortie\n",
    "\n",
    "chiffrer_dec(\"bonjour\")"
   ]
  },
  {
   "cell_type": "markdown",
   "metadata": {},
   "source": [
    "Ecrire une fonction <code>chiffrer_dec_V2</code> qui prend pour paramètres une chaîne de caractères et un entier <code>n</code> et effectue un chiffrement par décalage de <code>n</code> caractères. Voici quelques assertions qui devront être vérifiées par votre fonction :"
   ]
  },
  {
   "cell_type": "code",
   "execution_count": null,
   "metadata": {},
   "outputs": [],
   "source": [
    "assert(chiffrer_dec_V3(\"abcdef\", 8) == \"ijklmn\")\n",
    "assert(chiffrer_dec_V3(\"bonjour\", 3) == \"erqmrxu\")\n",
    "assert(chiffrer_dec_V3(\"test\", 12) == \"fqef\")"
   ]
  },
  {
   "cell_type": "code",
   "execution_count": null,
   "metadata": {},
   "outputs": [],
   "source": [
    "#Votre fonction ici ..."
   ]
  },
  {
   "cell_type": "markdown",
   "metadata": {},
   "source": [
    "<div class=\"alert alert-info\">\n",
    "\n",
    "**Questions :**  \n",
    "- Est-ce que toutes les valeurs de <code>n</code> conviennent ?  \n",
    "\n",
    "\n",
    "- Créer une fonction <code>car_precedent</code> puis modifier les fonctions <code>chiffrer_dec_V2</code> et <code>chiffrer_dec_V3</code> afin que toute valeur de <code>n</code> soit acceptée comme argument de <code>chiffrer_dec_V3</code>.  \n",
    "\n",
    "\n",
    "- Comment déchiffrer un message chiffré ?  \n"
   ]
  },
  {
   "cell_type": "markdown",
   "metadata": {},
   "source": [
    "# Exercice 2\n",
    "\n",
    "Le chiffrement par insertion consiste à noyer son message au milieu de caractères choisis aléatoirement. Il faut se donner un paramètre <code>n</code> correspondant au taux de dilution. Par exemple si on passe en argument <code>5</code> comme valeur de <code>n</code> alors dans le message chiffré, il y a 4 lettres aléatoires, 1 lettre du message, 4 lettres aléatoires, 1 lettre du message, 4 lettres aléatoire, 1 lettre du message etc.\n",
    "\n",
    "Vous devez coder une fonction de chiffrement et une fonction de déchiffrement. Vous pourrez vous servir de la méthode <code>choice</code> du module r<code>random</code> qui permet de choisir aléatoirement un élement dans un itérable (liste, chaîne de caractères, objet <code>range</code> etc.)"
   ]
  },
  {
   "cell_type": "code",
   "execution_count": 8,
   "metadata": {},
   "outputs": [
    {
     "name": "stdout",
     "output_type": "stream",
     "text": [
      "*\n",
      "é\n",
      "G\n",
      "^\n",
      "ç\n",
      "c\n",
      "q\n",
      "1\n",
      "è\n",
      "/\n"
     ]
    }
   ],
   "source": [
    "import random\n",
    "caracteres = \"abcdefghijklmnopqrstuvwxyzABCDEFGHIJKLMNOPQRSTUVWXYZ§/.?%µ¨£°0987654321&é'(-è_çà)=^ù*!:;,\"\n",
    "for i in range(10):\n",
    "    car = random.choice(caracteres)\n",
    "    print(car)"
   ]
  },
  {
   "cell_type": "code",
   "execution_count": null,
   "metadata": {},
   "outputs": [],
   "source": []
  }
 ],
 "metadata": {
  "kernelspec": {
   "display_name": "Python 3",
   "language": "python",
   "name": "python3"
  },
  "language_info": {
   "codemirror_mode": {
    "name": "ipython",
    "version": 3
   },
   "file_extension": ".py",
   "mimetype": "text/x-python",
   "name": "python",
   "nbconvert_exporter": "python",
   "pygments_lexer": "ipython3",
   "version": "3.6.4"
  }
 },
 "nbformat": 4,
 "nbformat_minor": 2
}
