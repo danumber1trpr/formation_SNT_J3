{
 "cells": [
  {
   "cell_type": "markdown",
   "metadata": {},
   "source": [
    "### Exercice 1"
   ]
  },
  {
   "cell_type": "code",
   "execution_count": 1,
   "metadata": {},
   "outputs": [
    {
     "name": "stdout",
     "output_type": "stream",
     "text": [
      "Mme M. 19\n"
     ]
    }
   ],
   "source": [
    "tuple1 = (19, -2.2, 888)\n",
    "tuple2 = (\"Mlle\", \"Mme\", \"M.\")\n",
    "a, b, c = tuple1\n",
    "c, a = a, c\n",
    "d, e, f = tuple2\n",
    "(b, a) = (f, e)\n",
    "print(a, b, c)"
   ]
  },
  {
   "cell_type": "markdown",
   "metadata": {},
   "source": [
    "### Exercice 2"
   ]
  },
  {
   "cell_type": "code",
   "execution_count": 2,
   "metadata": {},
   "outputs": [
    {
     "name": "stdout",
     "output_type": "stream",
     "text": [
      "(3, 4, 6)\n",
      "13\n",
      "--------\n",
      "11\n"
     ]
    }
   ],
   "source": [
    "import random\n",
    "def lancer_trois_des():\n",
    "    a = random.randint(1, 6)\n",
    "    b = random.randint(1, 6)\n",
    "    c = random.randint(1, 6)\n",
    "    return a, b, c\n",
    "\n",
    "mon_lancer = lancer_trois_des()\n",
    "somme = mon_lancer[0] + mon_lancer[1] + mon_lancer[2]\n",
    "print(mon_lancer)\n",
    "print(somme)\n",
    "\n",
    "print('--------')\n",
    "\n",
    "de_1, de_2, de_3 = lancer_trois_des()\n",
    "somme = de_1 + de_2 + de_3\n",
    "print(de_1 + de_2 + de_3)"
   ]
  },
  {
   "cell_type": "markdown",
   "metadata": {},
   "source": [
    "### Exercice 3"
   ]
  },
  {
   "cell_type": "code",
   "execution_count": 3,
   "metadata": {},
   "outputs": [],
   "source": [
    "tuple1 = ('a', 'b', 'c', 'd', 'd', 'f', 'g', 'h', 'i', 'j')\n",
    "#tuple1[4] = 'e'"
   ]
  },
  {
   "cell_type": "markdown",
   "metadata": {},
   "source": [
    "### Exercice 4"
   ]
  },
  {
   "cell_type": "code",
   "execution_count": 4,
   "metadata": {},
   "outputs": [],
   "source": [
    "tab_x = [7, 77, 777, 7777]\n",
    "tab_y = [5, 55, 555, 5555]\n",
    "tab_x[2] = tab_y[1]\n",
    "tab_y[3] = tab_x[0]\n",
    "tab_x[1] = tab_x[2]\n",
    "tab_y[1] = tab_y[3]"
   ]
  },
  {
   "cell_type": "code",
   "execution_count": 5,
   "metadata": {},
   "outputs": [
    {
     "data": {
      "text/plain": [
       "[7, 55, 55, 7777]"
      ]
     },
     "execution_count": 5,
     "metadata": {},
     "output_type": "execute_result"
    }
   ],
   "source": [
    "tab_x"
   ]
  },
  {
   "cell_type": "code",
   "execution_count": 6,
   "metadata": {},
   "outputs": [
    {
     "data": {
      "text/plain": [
       "[5, 7, 555, 7]"
      ]
     },
     "execution_count": 6,
     "metadata": {},
     "output_type": "execute_result"
    }
   ],
   "source": [
    "tab_y"
   ]
  },
  {
   "cell_type": "markdown",
   "metadata": {},
   "source": [
    "### Exercice 4 - bis"
   ]
  },
  {
   "cell_type": "code",
   "execution_count": 7,
   "metadata": {},
   "outputs": [
    {
     "name": "stdout",
     "output_type": "stream",
     "text": [
      "5 paf paf wwww wwww xxx\n"
     ]
    }
   ],
   "source": [
    "tab = ['z', 'yy', 'xxx', 'wwww', 'paf']\n",
    "\n",
    "a = len(tab)\n",
    "b = tab[ len(tab)-1 ]\n",
    "c = tab[-1]\n",
    "d = tab[ len(tab)-2 ]\n",
    "e = tab[-2]\n",
    "f = tab[-3]\n",
    "\n",
    "print(a, b, c, d, e, f)"
   ]
  },
  {
   "cell_type": "markdown",
   "metadata": {},
   "source": [
    "### Exercice 5"
   ]
  },
  {
   "cell_type": "code",
   "execution_count": 8,
   "metadata": {},
   "outputs": [
    {
     "name": "stdout",
     "output_type": "stream",
     "text": [
      "[1, 2, 4, 8, 16, 32, 64, 128, 256, 512, 1024]\n",
      "[0, 1, 0, 1, 0, 1, 0, 1, 0, 1, 0]\n",
      "[7, 77, 777, 7777]\n",
      "['M. X ?', 'M. Y ?', 'M. Z ?']\n"
     ]
    }
   ],
   "source": [
    "tab_a = [ 2**x for x in range(11) ]\n",
    "tab_b = [ 7 * x%2 for x in range(11) ]\n",
    "tab_c = [ 7 * ((10**x) // 9) for x in range(1, 5) ]\n",
    "tab_d = [ 'M. ' + car + ' ?' for car in 'XYZ' ]\n",
    "\n",
    "print(tab_a)\n",
    "print(tab_b)\n",
    "print(tab_c)\n",
    "print(tab_d)\n"
   ]
  },
  {
   "cell_type": "markdown",
   "metadata": {},
   "source": [
    "### Exercice 6"
   ]
  },
  {
   "cell_type": "code",
   "execution_count": 9,
   "metadata": {},
   "outputs": [
    {
     "name": "stdout",
     "output_type": "stream",
     "text": [
      "Lovelace\n",
      "Goldstine\n",
      "Hopper\n",
      "Recoque\n",
      "Hamilton\n"
     ]
    }
   ],
   "source": [
    "grands_noms = [\"Lovelace\", \"Clarke\", \"Goldstine\", \"Hopper\", \"Recoque\", \"Hamilton\"]\n",
    "for nom in grands_noms:\n",
    "    if \"o\" in nom:\n",
    "        print(nom)"
   ]
  },
  {
   "cell_type": "code",
   "execution_count": 10,
   "metadata": {},
   "outputs": [
    {
     "data": {
      "text/plain": [
       "44"
      ]
     },
     "execution_count": 10,
     "metadata": {},
     "output_type": "execute_result"
    }
   ],
   "source": [
    "grands_noms = [\"Lovelace\", \"Clarke\", \"Goldstine\", \"Hopper\", \"Recoque\", \"Hamilton\"]\n",
    "quantite_mystere = 0\n",
    "for nom in grands_noms:\n",
    "    quantite_mystere = quantite_mystere + len(nom)\n",
    "\n",
    "quantite_mystere"
   ]
  },
  {
   "cell_type": "markdown",
   "metadata": {},
   "source": [
    "### Exercice 7"
   ]
  },
  {
   "cell_type": "code",
   "execution_count": 11,
   "metadata": {},
   "outputs": [],
   "source": [
    "ma_belle_matrice = [ ['a', 'b', 'c', 'd'], \n",
    "                     ['e', 'f', 'g', 'h'], \n",
    "                     ['i', 'j', 'k', 'l'],\n",
    "                     ['m', 'n', 'o', 'p'],\n",
    "                     ['q', 'r', 's', 't'] ]"
   ]
  },
  {
   "cell_type": "code",
   "execution_count": 12,
   "metadata": {},
   "outputs": [
    {
     "name": "stdout",
     "output_type": "stream",
     "text": [
      "['m', 'n', 'o', 'p']\n",
      "o\n",
      "g\n",
      "j\n"
     ]
    }
   ],
   "source": [
    "a = ma_belle_matrice[3]\n",
    "b = ma_belle_matrice[3][2]\n",
    "c = ma_belle_matrice[1][2]\n",
    "d = ma_belle_matrice[2][1]\n",
    "print(a)\n",
    "print(b)\n",
    "print(c)\n",
    "print(d)"
   ]
  },
  {
   "cell_type": "code",
   "execution_count": 13,
   "metadata": {},
   "outputs": [],
   "source": [
    "ma_belle_matrice[1] = ['X', 'X', 'X', 'X']\n",
    "for ligne in range(5):\n",
    "    ma_belle_matrice[ligne][2] = 'X'"
   ]
  },
  {
   "cell_type": "code",
   "execution_count": 14,
   "metadata": {},
   "outputs": [
    {
     "name": "stdout",
     "output_type": "stream",
     "text": [
      "['a', 'b', 'X', 'd']\n",
      "['X', 'X', 'X', 'X']\n",
      "['i', 'j', 'X', 'l']\n",
      "['m', 'n', 'X', 'p']\n",
      "['q', 'r', 'X', 't']\n"
     ]
    }
   ],
   "source": [
    "for ligne in ma_belle_matrice:\n",
    "    print(ligne)"
   ]
  },
  {
   "cell_type": "code",
   "execution_count": null,
   "metadata": {},
   "outputs": [],
   "source": []
  }
 ],
 "metadata": {
  "kernelspec": {
   "display_name": "Python 3",
   "language": "python",
   "name": "python3"
  },
  "language_info": {
   "codemirror_mode": {
    "name": "ipython",
    "version": 3
   },
   "file_extension": ".py",
   "mimetype": "text/x-python",
   "name": "python",
   "nbconvert_exporter": "python",
   "pygments_lexer": "ipython3",
   "version": "3.6.4"
  }
 },
 "nbformat": 4,
 "nbformat_minor": 2
}
