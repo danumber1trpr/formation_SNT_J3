{
 "cells": [
  {
   "cell_type": "markdown",
   "metadata": {},
   "source": [
    "### Avant de commencer\n",
    "\n",
    "On rappelle qu'un notebook se lit de haut en bas. Et qu'il convient d'exécuter TOUTES les cellules indiquées (et parfois, lorsqu'on ne comprend pas trop, on a même le droit de jouer avec la cellule en changeant des valeurs et en observant ce que cela induit comme changements :"
   ]
  },
  {
   "cell_type": "markdown",
   "metadata": {},
   "source": [
    "# Saturday Night Matrix"
   ]
  },
  {
   "cell_type": "markdown",
   "metadata": {},
   "source": [
    "Voici une matrice 4 lignes et 3 colonnes (indéxées respectivement de 0 à 3 et de 0 à 2) :"
   ]
  },
  {
   "cell_type": "code",
   "execution_count": 21,
   "metadata": {},
   "outputs": [
    {
     "name": "stdout",
     "output_type": "stream",
     "text": [
      "[['A', 'B', 'C'], ['D', 'E', 'F'], ['G', 'H', 'I'], ['J', 'K', 'L']]\n",
      "C\n",
      "G\n"
     ]
    }
   ],
   "source": [
    "M = [['A', 'B', 'C'], ['D', 'E', 'F'], ['G', 'H', 'I'], ['J', 'K', 'L']]\n",
    "print(M)\n",
    "print(M[0][2])\n",
    "print(M[2][0])"
   ]
  },
  {
   "cell_type": "markdown",
   "metadata": {},
   "source": [
    "Qu'il est plus clair de coder sur plusieurs lignes (en faisant le passage à la ligne après une virgule) :"
   ]
  },
  {
   "cell_type": "code",
   "execution_count": 22,
   "metadata": {
    "scrolled": true
   },
   "outputs": [
    {
     "name": "stdout",
     "output_type": "stream",
     "text": [
      "[['A', 'B', 'C'], ['D', 'E', 'F'], ['G', 'H', 'I'], ['J', 'K', 'L']]\n"
     ]
    }
   ],
   "source": [
    "M = [['A', 'B', 'C'], \n",
    "     ['D', 'E', 'F'], \n",
    "     ['G', 'H', 'I'], \n",
    "     ['J', 'K', 'L']]\n",
    "print(M)"
   ]
  },
  {
   "cell_type": "markdown",
   "metadata": {},
   "source": [
    "L'affichage par défaut du `print` de python n'est pas fameux : on ne voit pas la structure de matrice. On peut y remédier en utilisant par exemple le module `numpy` (ce que nous ne ferons pas) ou en utilisant notre propre fonction d'affichage comme ci-dessous (NE PAS LIRE LE CODE DES DEUX CELLULES CI DESSOUS). \n",
    "\n",
    "Exécutez les deux cellules de code ci-dessous (**Sous Chrome, indiquer \"NotoColorEmoji.ttf\" à la place de \"Twitter_Color_Emoji\"**)"
   ]
  },
  {
   "cell_type": "code",
   "execution_count": 23,
   "metadata": {},
   "outputs": [
    {
     "data": {
      "text/html": [
       "<style>\n",
       "@font-face {\n",
       "    font-family: \"Twitter_Color_Emoji\";\n",
       "    src: url(./fonts_TP3/TwitterColorEmoji-SVGinOT.ttf) format(\"truetype\");\n",
       "}\n",
       "\n",
       ".output{\n",
       "  font-family: \"Courier New\";\n",
       "  font-size: 14px;\n",
       "    line-height: 65%;\n",
       "    white-space: pre;\n",
       "}\n",
       "</style>"
      ],
      "text/plain": [
       "<IPython.core.display.HTML object>"
      ]
     },
     "metadata": {},
     "output_type": "display_data"
    }
   ],
   "source": [
    "%%html\n",
    "<style>\n",
    "@font-face {\n",
    "    font-family: \"Twitter_Color_Emoji\";\n",
    "    src: url(./fonts_TP3/TwitterColorEmoji-SVGinOT.ttf) format(\"truetype\");\n",
    "}\n",
    "\n",
    ".output{\n",
    "  font-family: \"Courier New\";\n",
    "  font-size: 14px;\n",
    "    line-height: 65%;\n",
    "    white-space: pre;\n",
    "}\n",
    "</style>"
   ]
  },
  {
   "cell_type": "code",
   "execution_count": 24,
   "metadata": {},
   "outputs": [],
   "source": [
    "from IPython.display import display, HTML\n",
    "\n",
    "def print_HTML(chaine, font_name):\n",
    "    chaine_HTML = '<span style=\"font-size:32px;line-height:80%;font-family:' + font_name + ';\">' + chaine + '</span>'\n",
    "    display(HTML(chaine_HTML))\n",
    "\n",
    "def aff_mat_mono(M, compact_h = True, compact_v = True):\n",
    "    '''Affiche une matrice de mono-caractères'''\n",
    "    assert type(M) == list, \"La matrice n'est pas de type 'list'.\"\n",
    "    assert len(M) != 0, \"La matrice est vide.\"\n",
    "    for ligne in M:\n",
    "        assert type(ligne) == list, \"Une des lignes de la matrice n'est pas de type 'list'.\"\n",
    "        assert len(ligne) != 0, \"Une des lignes de la matrice est vide.\"\n",
    "        assert len(ligne) == len(M[0]), \"Toutes les lignes n'ont pas la même largeur.\"\n",
    "        for car in ligne:\n",
    "            assert type(car) == str, \"Un des éléments de la matrice n'est pas de type 'str'.\"\n",
    "            assert len(car) == 1, \"Un des éléments de la matrice n'est pas de longueur 1.\"\n",
    "    hauteur = len(M)\n",
    "    largeur = len(M[0])\n",
    "    M_bis = []\n",
    "    space = '' if compact_h else ' '\n",
    "    for ligne in M:\n",
    "        ligne_bis = ''.join([ space + ligne[i] + space for i in range(largeur)])\n",
    "        ligne_bis = ' [' + ligne_bis + '] '\n",
    "        M_bis.append(ligne_bis) \n",
    "        if not compact_v:\n",
    "            M_bis.append(' ')\n",
    "    if not compact_v:\n",
    "        M_bis.pop()\n",
    "    M_bis[0] = '[' + M_bis[0][1:]\n",
    "    M_bis[-1] = M_bis[-1][:-1] + ']'\n",
    "    for ligne in M_bis:\n",
    "        print_HTML(ligne, \"Twitter_Color_Emoji\")"
   ]
  },
  {
   "cell_type": "markdown",
   "metadata": {},
   "source": [
    "Utilisons cette fonction :"
   ]
  },
  {
   "cell_type": "code",
   "execution_count": 25,
   "metadata": {},
   "outputs": [
    {
     "data": {
      "text/html": [
       "<span style=\"font-size:32px;line-height:80%;font-family:Twitter_Color_Emoji;\">[[ABC] </span>"
      ],
      "text/plain": [
       "<IPython.core.display.HTML object>"
      ]
     },
     "metadata": {},
     "output_type": "display_data"
    },
    {
     "data": {
      "text/html": [
       "<span style=\"font-size:32px;line-height:80%;font-family:Twitter_Color_Emoji;\"> [DEF] </span>"
      ],
      "text/plain": [
       "<IPython.core.display.HTML object>"
      ]
     },
     "metadata": {},
     "output_type": "display_data"
    },
    {
     "data": {
      "text/html": [
       "<span style=\"font-size:32px;line-height:80%;font-family:Twitter_Color_Emoji;\"> [GHI] </span>"
      ],
      "text/plain": [
       "<IPython.core.display.HTML object>"
      ]
     },
     "metadata": {},
     "output_type": "display_data"
    },
    {
     "data": {
      "text/html": [
       "<span style=\"font-size:32px;line-height:80%;font-family:Twitter_Color_Emoji;\"> [JKL]]</span>"
      ],
      "text/plain": [
       "<IPython.core.display.HTML object>"
      ]
     },
     "metadata": {},
     "output_type": "display_data"
    }
   ],
   "source": [
    "aff_mat_mono(M)"
   ]
  },
  {
   "cell_type": "markdown",
   "metadata": {},
   "source": [
    "L'affichage par défaut est compacté verticalement et horizontalement mais on peut modifier cela grâce aux paramètres compact_v et compact_h :"
   ]
  },
  {
   "cell_type": "code",
   "execution_count": 26,
   "metadata": {},
   "outputs": [
    {
     "data": {
      "text/html": [
       "<span style=\"font-size:32px;line-height:80%;font-family:Twitter_Color_Emoji;\">[[ A  B  C ] </span>"
      ],
      "text/plain": [
       "<IPython.core.display.HTML object>"
      ]
     },
     "metadata": {},
     "output_type": "display_data"
    },
    {
     "data": {
      "text/html": [
       "<span style=\"font-size:32px;line-height:80%;font-family:Twitter_Color_Emoji;\"> [ D  E  F ] </span>"
      ],
      "text/plain": [
       "<IPython.core.display.HTML object>"
      ]
     },
     "metadata": {},
     "output_type": "display_data"
    },
    {
     "data": {
      "text/html": [
       "<span style=\"font-size:32px;line-height:80%;font-family:Twitter_Color_Emoji;\"> [ G  H  I ] </span>"
      ],
      "text/plain": [
       "<IPython.core.display.HTML object>"
      ]
     },
     "metadata": {},
     "output_type": "display_data"
    },
    {
     "data": {
      "text/html": [
       "<span style=\"font-size:32px;line-height:80%;font-family:Twitter_Color_Emoji;\"> [ J  K  L ]]</span>"
      ],
      "text/plain": [
       "<IPython.core.display.HTML object>"
      ]
     },
     "metadata": {},
     "output_type": "display_data"
    }
   ],
   "source": [
    "aff_mat_mono(M, compact_h = False)"
   ]
  },
  {
   "cell_type": "markdown",
   "metadata": {},
   "source": [
    "Si on veut un peu plus de couleurs dans tout ça, on peut utiliser des caractères rarement utilisés et qui ne se trouvent pas sur les claviers. En python c'est tout à fait possible à partir du **code point unicode** du caractère. Par exemple on peut glisser des émojis dans une chaîne de caractères "
   ]
  },
  {
   "cell_type": "code",
   "execution_count": 27,
   "metadata": {},
   "outputs": [
    {
     "data": {
      "text/html": [
       "<span style=\"font-size:32px;line-height:80%;font-family:Twitter_Color_Emoji;\">je suis une chaine de caractères avec un émoji ici : 🤔 et un autre là : 🤓.</span>"
      ],
      "text/plain": [
       "<IPython.core.display.HTML object>"
      ]
     },
     "metadata": {},
     "output_type": "display_data"
    }
   ],
   "source": [
    "ma_chaine = 'je suis une chaine de caractères avec un émoji ici : \\U0001F914 et un autre là : \\U0001F913.'\n",
    "print_HTML(ma_chaine, \"Twitter_Color_Emoji\")"
   ]
  },
  {
   "cell_type": "markdown",
   "metadata": {},
   "source": [
    "<div class = \"alert alert-danger\">\n",
    "\n",
    "**Attention :** sous certains environnements de développement python cela provoquera une erreur. Par exemple sous Idle..."
   ]
  },
  {
   "cell_type": "markdown",
   "metadata": {},
   "source": [
    "Les jeux de caractères seront étudiés plus tard, mais si cela vous intrigue vous pourrez chez vous consulter [le site compart](https://www.compart.com/fr/unicode/block)  qui répertorie tous les caractères (vous y découvrirez par exemple le très poétique caractère 'Lettre majuscule glagolitique petit yousse yodisé' `\\u2C27`). Vous pouvez aussi télécharger une app qui les catalogue (telle que UnicodePad sous Android)"
   ]
  },
  {
   "cell_type": "markdown",
   "metadata": {},
   "source": [
    "Les caractères qui vont nous intéresser sont les neuf caractères suivants qui permettent d'obtenir des carrés colorés. Ils ont été affectés à des variables pour les retrouver plus rapidement. Le S est pour Square et la deuxième lettre est pour la couleur : R, C, O, Y, G, P, M, B, W correspondent Red, Cyan, Orange, Yellow, Green, Purple, Marroon, Black, White."
   ]
  },
  {
   "cell_type": "code",
   "execution_count": 28,
   "metadata": {},
   "outputs": [
    {
     "data": {
      "text/html": [
       "<span style=\"font-size:32px;line-height:80%;font-family:Twitter_Color_Emoji;\">Ohhh... un carré violet : 🟪  ... et  un carré vert : 🟩 ...</span>"
      ],
      "text/plain": [
       "<IPython.core.display.HTML object>"
      ]
     },
     "metadata": {},
     "output_type": "display_data"
    }
   ],
   "source": [
    "SR = '\\U0001F7E5'\n",
    "SC = '\\U0001F7E6'\n",
    "SO = '\\U0001F7E7'\n",
    "SY = '\\U0001F7E8'\n",
    "SG = '\\U0001F7E9'\n",
    "SP = '\\U0001F7EA'\n",
    "SM = '\\U0001F7EB'\n",
    "SB = '\\u2B1B'\n",
    "SW = '\\u2B1C'\n",
    "\n",
    "print_HTML( 'Ohhh... un carré violet : ' + SP + '  ... et  un carré vert : ' + SG + ' ...', \"Twitter_Color_Emoji\")"
   ]
  },
  {
   "cell_type": "markdown",
   "metadata": {},
   "source": [
    "On peut maintenant mettre ces caractères dans une matrice, comme ce qu'on a fait plus haut :"
   ]
  },
  {
   "cell_type": "code",
   "execution_count": 29,
   "metadata": {},
   "outputs": [],
   "source": [
    "M = [[SG, SG, SG, SG, SG, SG, SG], \n",
    "     [SG, SC, SC, SC, SC, SC, SG], \n",
    "     [SG, SC, SY, SY, SY, SC, SG], \n",
    "     [SG, SC, SY, SP, SY, SC, SG], \n",
    "     [SG, SC, SY, SP, SY, SC, SG], \n",
    "     [SG, SC, SY, SP, SY, SC, SG], \n",
    "     [SG, SC, SY, SY, SY, SC, SG], \n",
    "     [SG, SC, SC, SC, SC, SC, SG], \n",
    "     [SG, SG, SG, SG, SG, SG, SG]]"
   ]
  },
  {
   "cell_type": "markdown",
   "metadata": {},
   "source": [
    "Puis afficher la matrice :"
   ]
  },
  {
   "cell_type": "code",
   "execution_count": 30,
   "metadata": {},
   "outputs": [
    {
     "data": {
      "text/html": [
       "<span style=\"font-size:32px;line-height:80%;font-family:Twitter_Color_Emoji;\">[[🟩🟩🟩🟩🟩🟩🟩] </span>"
      ],
      "text/plain": [
       "<IPython.core.display.HTML object>"
      ]
     },
     "metadata": {},
     "output_type": "display_data"
    },
    {
     "data": {
      "text/html": [
       "<span style=\"font-size:32px;line-height:80%;font-family:Twitter_Color_Emoji;\"> [🟩🟦🟦🟦🟦🟦🟩] </span>"
      ],
      "text/plain": [
       "<IPython.core.display.HTML object>"
      ]
     },
     "metadata": {},
     "output_type": "display_data"
    },
    {
     "data": {
      "text/html": [
       "<span style=\"font-size:32px;line-height:80%;font-family:Twitter_Color_Emoji;\"> [🟩🟦🟨🟨🟨🟦🟩] </span>"
      ],
      "text/plain": [
       "<IPython.core.display.HTML object>"
      ]
     },
     "metadata": {},
     "output_type": "display_data"
    },
    {
     "data": {
      "text/html": [
       "<span style=\"font-size:32px;line-height:80%;font-family:Twitter_Color_Emoji;\"> [🟩🟦🟨🟪🟨🟦🟩] </span>"
      ],
      "text/plain": [
       "<IPython.core.display.HTML object>"
      ]
     },
     "metadata": {},
     "output_type": "display_data"
    },
    {
     "data": {
      "text/html": [
       "<span style=\"font-size:32px;line-height:80%;font-family:Twitter_Color_Emoji;\"> [🟩🟦🟨🟪🟨🟦🟩] </span>"
      ],
      "text/plain": [
       "<IPython.core.display.HTML object>"
      ]
     },
     "metadata": {},
     "output_type": "display_data"
    },
    {
     "data": {
      "text/html": [
       "<span style=\"font-size:32px;line-height:80%;font-family:Twitter_Color_Emoji;\"> [🟩🟦🟨🟪🟨🟦🟩] </span>"
      ],
      "text/plain": [
       "<IPython.core.display.HTML object>"
      ]
     },
     "metadata": {},
     "output_type": "display_data"
    },
    {
     "data": {
      "text/html": [
       "<span style=\"font-size:32px;line-height:80%;font-family:Twitter_Color_Emoji;\"> [🟩🟦🟨🟨🟨🟦🟩] </span>"
      ],
      "text/plain": [
       "<IPython.core.display.HTML object>"
      ]
     },
     "metadata": {},
     "output_type": "display_data"
    },
    {
     "data": {
      "text/html": [
       "<span style=\"font-size:32px;line-height:80%;font-family:Twitter_Color_Emoji;\"> [🟩🟦🟦🟦🟦🟦🟩] </span>"
      ],
      "text/plain": [
       "<IPython.core.display.HTML object>"
      ]
     },
     "metadata": {},
     "output_type": "display_data"
    },
    {
     "data": {
      "text/html": [
       "<span style=\"font-size:32px;line-height:80%;font-family:Twitter_Color_Emoji;\"> [🟩🟩🟩🟩🟩🟩🟩]]</span>"
      ],
      "text/plain": [
       "<IPython.core.display.HTML object>"
      ]
     },
     "metadata": {},
     "output_type": "display_data"
    }
   ],
   "source": [
    "aff_mat_mono(M)"
   ]
  },
  {
   "cell_type": "markdown",
   "metadata": {},
   "source": [
    "On peut maintenant modifier un seul carré **sans ré-écrire** la matrice **en entier**  :"
   ]
  },
  {
   "cell_type": "code",
   "execution_count": 31,
   "metadata": {},
   "outputs": [
    {
     "data": {
      "text/html": [
       "<span style=\"font-size:32px;line-height:80%;font-family:Twitter_Color_Emoji;\">[[🟩🟩🟩🟩🟩🟩🟩] </span>"
      ],
      "text/plain": [
       "<IPython.core.display.HTML object>"
      ]
     },
     "metadata": {},
     "output_type": "display_data"
    },
    {
     "data": {
      "text/html": [
       "<span style=\"font-size:32px;line-height:80%;font-family:Twitter_Color_Emoji;\"> [🟩🟦🟦🟦🟦🟦🟩] </span>"
      ],
      "text/plain": [
       "<IPython.core.display.HTML object>"
      ]
     },
     "metadata": {},
     "output_type": "display_data"
    },
    {
     "data": {
      "text/html": [
       "<span style=\"font-size:32px;line-height:80%;font-family:Twitter_Color_Emoji;\"> [🟩🟦🟨🟨🟨🟦🟩] </span>"
      ],
      "text/plain": [
       "<IPython.core.display.HTML object>"
      ]
     },
     "metadata": {},
     "output_type": "display_data"
    },
    {
     "data": {
      "text/html": [
       "<span style=\"font-size:32px;line-height:80%;font-family:Twitter_Color_Emoji;\"> [🟩🟦🟨🟪🟨🟦🟩] </span>"
      ],
      "text/plain": [
       "<IPython.core.display.HTML object>"
      ]
     },
     "metadata": {},
     "output_type": "display_data"
    },
    {
     "data": {
      "text/html": [
       "<span style=\"font-size:32px;line-height:80%;font-family:Twitter_Color_Emoji;\"> [🟩🟦🟨🟥🟨🟦🟩] </span>"
      ],
      "text/plain": [
       "<IPython.core.display.HTML object>"
      ]
     },
     "metadata": {},
     "output_type": "display_data"
    },
    {
     "data": {
      "text/html": [
       "<span style=\"font-size:32px;line-height:80%;font-family:Twitter_Color_Emoji;\"> [🟩🟦🟨🟪🟨🟦🟩] </span>"
      ],
      "text/plain": [
       "<IPython.core.display.HTML object>"
      ]
     },
     "metadata": {},
     "output_type": "display_data"
    },
    {
     "data": {
      "text/html": [
       "<span style=\"font-size:32px;line-height:80%;font-family:Twitter_Color_Emoji;\"> [🟩🟦🟨🟨🟨🟦🟩] </span>"
      ],
      "text/plain": [
       "<IPython.core.display.HTML object>"
      ]
     },
     "metadata": {},
     "output_type": "display_data"
    },
    {
     "data": {
      "text/html": [
       "<span style=\"font-size:32px;line-height:80%;font-family:Twitter_Color_Emoji;\"> [🟩🟦🟦🟦🟦🟦🟩] </span>"
      ],
      "text/plain": [
       "<IPython.core.display.HTML object>"
      ]
     },
     "metadata": {},
     "output_type": "display_data"
    },
    {
     "data": {
      "text/html": [
       "<span style=\"font-size:32px;line-height:80%;font-family:Twitter_Color_Emoji;\"> [🟩🟩🟩🟩🟩🟩🟩]]</span>"
      ],
      "text/plain": [
       "<IPython.core.display.HTML object>"
      ]
     },
     "metadata": {},
     "output_type": "display_data"
    }
   ],
   "source": [
    "M[4][3] = SR\n",
    "aff_mat_mono(M)"
   ]
  },
  {
   "cell_type": "markdown",
   "metadata": {},
   "source": [
    "<div class = \"alert alert-info\">\n",
    "**Question 1 :**  \n",
    "En ne modifiant QUE les quatorze caractères nécessaires (sans ré-écrire la matrice M en entier), modifier la matrice M afin qu'elle conduise à la représentation ci-desssous :\n",
    "![matrice_exemple_1](./images_TP3/matrice_ex1.jpg)\n",
    "\n",
    "**Remarque** Si vous faites une erreur vous pourrez re-exécuter la cellule qui définit M pour la remettre comme il faut avant de recommencer à colorier vos quatorze pixels."
   ]
  },
  {
   "cell_type": "code",
   "execution_count": null,
   "metadata": {},
   "outputs": [],
   "source": []
  },
  {
   "cell_type": "markdown",
   "metadata": {},
   "source": [
    "Nous allons maintenant chercher à générer **facilement** des matrices de L lignes et C colonnes. Par ailleurs, puisque le coloriage élément par élément est rébarbatif, nous allons mettre en place des fonctions automatisant cette tâche."
   ]
  },
  {
   "cell_type": "markdown",
   "metadata": {},
   "source": [
    "<div class = \"alert alert-info\">\n",
    "**Question 2 : Créer une ligne de caractères monochrome**  \n",
    "Coder une fonction `creer_ligne` qui :\n",
    "- prend en argument un nombre entier `C` et un caractère `car`.\n",
    "- retourne un tableau de `C` caractères `car`.  \n",
    "\n",
    "\n",
    "On utilisera avec profit la construction de tableaux par compréhension.  \n",
    "\n",
    "\n",
    "Vous trouverez ci-dessous quelques assertions devant être satisfaites par la fonction `creer_ligne`"
   ]
  },
  {
   "cell_type": "code",
   "execution_count": null,
   "metadata": {},
   "outputs": [],
   "source": [
    "#Compléter la fonction\n",
    "def creer_ligne(C, car):\n",
    "    pass"
   ]
  },
  {
   "cell_type": "code",
   "execution_count": null,
   "metadata": {},
   "outputs": [],
   "source": [
    "assert(creer_ligne(11, SW) == [SW, SW, SW, SW, SW, SW, SW, SW, SW, SW, SW])\n",
    "assert(creer_ligne(5, SP) == [SP, SP, SP, SP, SP])"
   ]
  },
  {
   "cell_type": "markdown",
   "metadata": {},
   "source": [
    "<div class = \"alert alert-info\">\n",
    "**Question 3 : Créer une matrice monochrome**  \n",
    "Coder une fonction `creer_matrice` qui :\n",
    "- prend en argument deux nombre entier `L` et `C` et un caractère `car`.\n",
    "- retourne une matrice de `L` lignes de `C` caractères `car`.  \n",
    "\n",
    "\n",
    "On utilisera avec profit la construction de tableaux par compréhension ainsi que la fonction `creer_ligne` de la question 2 .  \n",
    "\n",
    "\n",
    "Vous trouverez ci-dessous une assertion devant être satisfaite par la fonction `creer_matrice`"
   ]
  },
  {
   "cell_type": "code",
   "execution_count": null,
   "metadata": {},
   "outputs": [],
   "source": [
    "#Compléter la fonction\n",
    "def creer_matrice(L, C, car):\n",
    "    pass"
   ]
  },
  {
   "cell_type": "code",
   "execution_count": null,
   "metadata": {},
   "outputs": [],
   "source": [
    "assert(creer_matrice(4, 3, SY) == [[SY, SY, SY],\n",
    "                                   [SY, SY, SY], \n",
    "                                   [SY, SY, SY],\n",
    "                                   [SY, SY, SY]])"
   ]
  },
  {
   "cell_type": "markdown",
   "metadata": {},
   "source": [
    "<div class = \"alert alert-info\">\n",
    "**Question 3-bis :**   \n",
    "Créer et **afficher** une matrice de 20 lignes et 15 colonnes avec des caractères `SG`."
   ]
  },
  {
   "cell_type": "code",
   "execution_count": null,
   "metadata": {},
   "outputs": [],
   "source": []
  },
  {
   "cell_type": "markdown",
   "metadata": {},
   "source": [
    "<div class = \"alert alert-info\">\n",
    "**Question 4 :**  \n",
    "Coder une fonction `tracer_segment_horizontal`qui :\n",
    "- prend en argument une matrice `M`, un indice de ligne `i`, deux indices de colonnes `deb` et `fin` et un caractère `car`\n",
    "- Modifie la matrice `M` pour que les éléments de la ligne d'indice `i` situés entre les colonnes d'indices `deb` et `fin` prennent la valeur `car`.\n",
    "\n",
    "En schéma, si on appelle `tracer_segment_horizontal(M, 5, 2, 8, SO)` (où `M` est la matrice verte de 20 lignes et 15 colonnes ci-dessus) on obtient : ![image_exemple_2](./images_TP3/matrice_ex2.jpg)\n",
    "\n",
    "**Remarque :**  \n",
    "Pour cet exemple, on voit qu'il faut faire  `M[5][2] = SO, M[5][3]=SO, M[5][4]=SO ... M[5][8]=SO`.  \n",
    "On voit donc qu'on fait `M[5][j]=SO` avec `j` variant entre 2 et 8 ... ce qui se code simplement avec une boucle ...  \n",
    "Le corps de votre fonction tient en deux lignes de code !"
   ]
  },
  {
   "cell_type": "code",
   "execution_count": 32,
   "metadata": {},
   "outputs": [],
   "source": [
    "#Compléter la fonction\n",
    "def tracer_segment_horizontal(M, i, deb, fin, car):\n",
    "    pass\n",
    "    "
   ]
  },
  {
   "cell_type": "markdown",
   "metadata": {},
   "source": [
    "<div class = \"alert alert-info\">\n",
    "**Question 4-bis :**  \n",
    "Tester votre fonction sur la matrice précédente en lui coloriant plusieurs segments horizontaux de différentes couleurs et en **affichant** le résultat."
   ]
  },
  {
   "cell_type": "code",
   "execution_count": null,
   "metadata": {},
   "outputs": [],
   "source": []
  },
  {
   "cell_type": "markdown",
   "metadata": {},
   "source": [
    "<div class = \"alert alert-info\">\n",
    "**Questions 5 et 5-bis:**  \n",
    "Mêmes questions que les questions 4 et 4-bis avec des segment verticaux (fonction `tracer_segment_vertical(M, j, deb, fin, car)` où j est l'indice de colonne)."
   ]
  },
  {
   "cell_type": "code",
   "execution_count": 33,
   "metadata": {},
   "outputs": [],
   "source": [
    "#Compléter la fonction\n",
    "def tracer_segment_vertical(M, j, deb, fin, car):\n",
    "    pass"
   ]
  },
  {
   "cell_type": "code",
   "execution_count": null,
   "metadata": {},
   "outputs": [],
   "source": []
  },
  {
   "cell_type": "markdown",
   "metadata": {},
   "source": [
    "<div class = \"alert alert-info\">\n",
    "**Questions 6 et 6-bis:**  \n",
    "Créer et tester une fonction `tracer_rectangle` permettant de tracer un rectangle. Les paramètres seront la matrice, les indices de ligne et de colonne du coin supérieur gauche, les indices de ligne et de colonne du coin inférieur droit ainsi que le caractère de la couleur désirée.\n",
    "\n",
    "Cette fonction utilisera avec profit les fonctions `tracer_segment horizontal` et `tracer_segment_vertical`."
   ]
  },
  {
   "cell_type": "code",
   "execution_count": 34,
   "metadata": {},
   "outputs": [],
   "source": [
    "#Compléter la fonction\n",
    "def tracer_rectangle(M, i_sup, j_gau, i_inf, j_droit, car):\n",
    "    pass"
   ]
  },
  {
   "cell_type": "markdown",
   "metadata": {},
   "source": [
    "<div class = \"alert alert-info\">\n",
    "**Question 7**  \n",
    "Obtenir et **afficher** la matrice dont la représentation est la suivante :\n",
    "![image_exemple3](./images_TP3/matrice_ex3.jpg)"
   ]
  },
  {
   "cell_type": "code",
   "execution_count": null,
   "metadata": {},
   "outputs": [],
   "source": []
  },
  {
   "cell_type": "markdown",
   "metadata": {},
   "source": [
    "<div class = \"alert alert-danger\">\n",
    "**Question 8 :**\n",
    "Exécutez la cellule suivante ...   \n"
   ]
  },
  {
   "cell_type": "code",
   "execution_count": 35,
   "metadata": {},
   "outputs": [
    {
     "ename": "NameError",
     "evalue": "name 'creer_matrice' is not defined",
     "output_type": "error",
     "traceback": [
      "\u001b[1;31m---------------------------------------------------------------------------\u001b[0m",
      "\u001b[1;31mNameError\u001b[0m                                 Traceback (most recent call last)",
      "\u001b[1;32m<ipython-input-35-c2b1f1193a2b>\u001b[0m in \u001b[0;36m<module>\u001b[1;34m()\u001b[0m\n\u001b[0;32m     18\u001b[0m         \u001b[0msleep\u001b[0m\u001b[1;33m(\u001b[0m\u001b[1;36m1\u001b[0m\u001b[1;33m)\u001b[0m\u001b[1;33m\u001b[0m\u001b[0m\n\u001b[0;32m     19\u001b[0m \u001b[1;33m\u001b[0m\u001b[0m\n\u001b[1;32m---> 20\u001b[1;33m \u001b[0mstuff\u001b[0m\u001b[1;33m(\u001b[0m\u001b[1;33m)\u001b[0m\u001b[1;33m\u001b[0m\u001b[0m\n\u001b[0m",
      "\u001b[1;32m<ipython-input-35-c2b1f1193a2b>\u001b[0m in \u001b[0;36mstuff\u001b[1;34m()\u001b[0m\n\u001b[0;32m     15\u001b[0m     \u001b[1;32mfor\u001b[0m \u001b[0mi\u001b[0m \u001b[1;32min\u001b[0m \u001b[0mrange\u001b[0m\u001b[1;33m(\u001b[0m\u001b[1;36m97\u001b[0m\u001b[1;33m)\u001b[0m\u001b[1;33m:\u001b[0m\u001b[1;33m\u001b[0m\u001b[0m\n\u001b[0;32m     16\u001b[0m         \u001b[0mIPython\u001b[0m\u001b[1;33m.\u001b[0m\u001b[0mdisplay\u001b[0m\u001b[1;33m.\u001b[0m\u001b[0mclear_output\u001b[0m\u001b[1;33m(\u001b[0m\u001b[0mwait\u001b[0m\u001b[1;33m=\u001b[0m\u001b[1;32mTrue\u001b[0m\u001b[1;33m)\u001b[0m\u001b[1;33m\u001b[0m\u001b[0m\n\u001b[1;32m---> 17\u001b[1;33m         \u001b[0maff_mat_mono\u001b[0m\u001b[1;33m(\u001b[0m\u001b[0mwhat\u001b[0m\u001b[1;33m(\u001b[0m\u001b[0mc\u001b[0m\u001b[1;33m[\u001b[0m\u001b[0mi\u001b[0m\u001b[1;33m]\u001b[0m\u001b[1;33m,\u001b[0m \u001b[0mc\u001b[0m\u001b[1;33m[\u001b[0m\u001b[0mi\u001b[0m\u001b[1;33m+\u001b[0m\u001b[1;36m1\u001b[0m\u001b[1;33m]\u001b[0m\u001b[1;33m,\u001b[0m \u001b[0mc\u001b[0m\u001b[1;33m[\u001b[0m\u001b[0mi\u001b[0m\u001b[1;33m+\u001b[0m\u001b[1;36m2\u001b[0m\u001b[1;33m]\u001b[0m\u001b[1;33m,\u001b[0m \u001b[0mc\u001b[0m\u001b[1;33m[\u001b[0m\u001b[0mi\u001b[0m\u001b[1;33m+\u001b[0m\u001b[1;36m3\u001b[0m\u001b[1;33m]\u001b[0m\u001b[1;33m)\u001b[0m\u001b[1;33m)\u001b[0m\u001b[1;33m\u001b[0m\u001b[0m\n\u001b[0m\u001b[0;32m     18\u001b[0m         \u001b[0msleep\u001b[0m\u001b[1;33m(\u001b[0m\u001b[1;36m1\u001b[0m\u001b[1;33m)\u001b[0m\u001b[1;33m\u001b[0m\u001b[0m\n\u001b[0;32m     19\u001b[0m \u001b[1;33m\u001b[0m\u001b[0m\n",
      "\u001b[1;32m<ipython-input-35-c2b1f1193a2b>\u001b[0m in \u001b[0;36mwhat\u001b[1;34m(A, B, C, D)\u001b[0m\n\u001b[0;32m      4\u001b[0m \u001b[1;33m\u001b[0m\u001b[0m\n\u001b[0;32m      5\u001b[0m \u001b[1;32mdef\u001b[0m \u001b[0mwhat\u001b[0m\u001b[1;33m(\u001b[0m\u001b[0mA\u001b[0m\u001b[1;33m,\u001b[0m \u001b[0mB\u001b[0m\u001b[1;33m,\u001b[0m \u001b[0mC\u001b[0m\u001b[1;33m,\u001b[0m \u001b[0mD\u001b[0m\u001b[1;33m)\u001b[0m\u001b[1;33m:\u001b[0m\u001b[1;33m\u001b[0m\u001b[0m\n\u001b[1;32m----> 6\u001b[1;33m     \u001b[0mfoo\u001b[0m\u001b[1;33m,\u001b[0m \u001b[0mgrumpf\u001b[0m\u001b[1;33m,\u001b[0m \u001b[0mkloug\u001b[0m \u001b[1;33m=\u001b[0m \u001b[0mcreer_matrice\u001b[0m\u001b[1;33m(\u001b[0m\u001b[1;36m80\u001b[0m\u001b[1;33m%\u001b[0m\u001b[1;36m62\u001b[0m\u001b[1;33m,\u001b[0m \u001b[1;36m64\u001b[0m\u001b[1;33m%\u001b[0m\u001b[1;36m48\u001b[0m\u001b[1;33m,\u001b[0m \u001b[0mA\u001b[0m\u001b[1;33m)\u001b[0m\u001b[1;33m,\u001b[0m \u001b[1;33m[\u001b[0m\u001b[0mB\u001b[0m\u001b[1;33m,\u001b[0m \u001b[0mC\u001b[0m\u001b[1;33m,\u001b[0m \u001b[0mD\u001b[0m\u001b[1;33m]\u001b[0m\u001b[1;33m,\u001b[0m \u001b[0mtracer_rectangle\u001b[0m\u001b[1;33m\u001b[0m\u001b[0m\n\u001b[0m\u001b[0;32m      7\u001b[0m     \u001b[1;32mfor\u001b[0m \u001b[0mbaz\u001b[0m \u001b[1;32min\u001b[0m \u001b[1;33m[\u001b[0m\u001b[1;36m1\u001b[0m\u001b[1;33m,\u001b[0m \u001b[1;36m10\u001b[0m\u001b[1;33m]\u001b[0m\u001b[1;33m:\u001b[0m\u001b[1;33m\u001b[0m\u001b[0m\n\u001b[0;32m      8\u001b[0m         \u001b[1;32mfor\u001b[0m \u001b[0mbar\u001b[0m \u001b[1;32min\u001b[0m \u001b[1;33m[\u001b[0m\u001b[1;36m1\u001b[0m\u001b[1;33m,\u001b[0m \u001b[1;36m9\u001b[0m\u001b[1;33m]\u001b[0m\u001b[1;33m:\u001b[0m\u001b[1;33m\u001b[0m\u001b[0m\n",
      "\u001b[1;31mNameError\u001b[0m: name 'creer_matrice' is not defined"
     ]
    }
   ],
   "source": [
    "from time import sleep\n",
    "from random import choices\n",
    "import IPython.display\n",
    "\n",
    "def what(A, B, C, D):\n",
    "    foo, grumpf, kloug = creer_matrice(80%62, 64%48, A), [B, C, D], tracer_rectangle\n",
    "    for baz in [1, 10]:\n",
    "        for bar in [1, 9]:\n",
    "            for bap in [0, 1, 2]:\n",
    "                kloug(foo, baz+bap, bar+bap, baz+6-bap, bar+5-bap, grumpf[bap])\n",
    "    return foo\n",
    "\n",
    "def stuff():\n",
    "    c = choices([SR, SC, SO, SG, SP, SY, SM, SB, SW], k=100)\n",
    "    for i in range(97):\n",
    "        IPython.display.clear_output(wait=True)\n",
    "        aff_mat_mono(what(c[i], c[i+1], c[i+2], c[i+3]))\n",
    "        sleep(1)\n",
    "\n",
    "stuff()  "
   ]
  },
  {
   "cell_type": "markdown",
   "metadata": {},
   "source": [
    "Vous avez fini, vous pouvez [sortir vous détendre](https://nypost.com/2017/11/27/five-sexy-holiday-party-looks-inspired-by-saturday-night-fever/)"
   ]
  },
  {
   "cell_type": "code",
   "execution_count": null,
   "metadata": {},
   "outputs": [],
   "source": []
  },
  {
   "cell_type": "code",
   "execution_count": null,
   "metadata": {},
   "outputs": [],
   "source": []
  }
 ],
 "metadata": {
  "kernelspec": {
   "display_name": "Python 3",
   "language": "python",
   "name": "python3"
  },
  "language_info": {
   "codemirror_mode": {
    "name": "ipython",
    "version": 3
   },
   "file_extension": ".py",
   "mimetype": "text/x-python",
   "name": "python",
   "nbconvert_exporter": "python",
   "pygments_lexer": "ipython3",
   "version": "3.6.4"
  }
 },
 "nbformat": 4,
 "nbformat_minor": 2
}
