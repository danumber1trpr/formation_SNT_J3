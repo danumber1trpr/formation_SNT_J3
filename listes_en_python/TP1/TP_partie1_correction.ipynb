{
 "cells": [
  {
   "cell_type": "markdown",
   "metadata": {},
   "source": [
    "# TP : partie 1"
   ]
  },
  {
   "cell_type": "markdown",
   "metadata": {},
   "source": [
    "### Activité 1\n",
    "\n",
    "On rappelle que la fonction `randint(a, b)` du module `random` permet de tirer un nombre au hasard entre `a` et `b` compris.  En particulier elle permet de tirer l'indice d'un élément de tableau au hasard ..."
   ]
  },
  {
   "cell_type": "markdown",
   "metadata": {},
   "source": [
    "<div class = \"alert alert-info\">\n",
    "Compléter la fonction ci-dessous afin qu'elle retourne un 2-uplet correspondant à une carte tirée au hasard."
   ]
  },
  {
   "cell_type": "code",
   "execution_count": null,
   "metadata": {},
   "outputs": [],
   "source": [
    "import random\n",
    "\n",
    "def tirer_une_carte():\n",
    "    couleurs = ('pique','trèfle','coeur','carreau')\n",
    "    valeurs = ('7', '8', '9', '10', 'V', 'D', 'R', 'AS')\n",
    "    indice_c = random.randint(0,3)\n",
    "    indice_v = random.randint(0,7)\n",
    "    coul = couleurs[indice_c]\n",
    "    val = valeurs[indice_v]\n",
    "    return (val, coul)"
   ]
  },
  {
   "cell_type": "code",
   "execution_count": null,
   "metadata": {},
   "outputs": [],
   "source": [
    "tirer_une_carte()"
   ]
  },
  {
   "cell_type": "markdown",
   "metadata": {},
   "source": [
    "### Activité 2 : parcourir un tableau"
   ]
  },
  {
   "cell_type": "markdown",
   "metadata": {},
   "source": [
    "Exécuter la cellule ci-dessous :"
   ]
  },
  {
   "cell_type": "code",
   "execution_count": null,
   "metadata": {},
   "outputs": [],
   "source": [
    "def fournir_tableau(fichier_texte):\n",
    "    L = []\n",
    "    with open(fichier_texte, encoding='utf-8') as f:\n",
    "        for line in f:\n",
    "            L.append(line)\n",
    "        for i, mot in enumerate(L[:-1]): #on enlève tous les sauts à la ligne en trop (CRLF)\n",
    "            L[i] = mot[:-1]\n",
    "    return L\n",
    "\n",
    "tab_des_apps = fournir_tableau('./datas_TP/noms_apps_android.txt')"
   ]
  },
  {
   "cell_type": "markdown",
   "metadata": {},
   "source": [
    "Vous disposez désormais dans `tab_des_apps` des noms de plusieurs milliers d'applications android :"
   ]
  },
  {
   "cell_type": "code",
   "execution_count": null,
   "metadata": {},
   "outputs": [],
   "source": [
    "tab_des_apps[1457]"
   ]
  },
  {
   "cell_type": "markdown",
   "metadata": {},
   "source": [
    "<div class = \"alert alert-info\">\n",
    "**En vous servant de la cellule ci-dessous pour exécuter des instructions bien choisies :  **\n",
    "\n",
    "- Quels sont les éléments du tableau d'indices 234, 345 et 1234  ?  \n",
    "'Mobile Doc Scanner (MDScan) Lite'  \n",
    "\n",
    "\n",
    "- En utilisant l'indice -1, donner le dernier élément du tableau. Puis donner l'avant-dernier élément du tableau.  \n",
    "'Firefox Browser fast & private'   \n",
    "\n",
    "\n",
    "- Quelle est la longueur du tableau ?  \n",
    "'Postmates Food Delivery: Order Eats & Alcohol'   \n",
    "\n",
    "\n",
    "- Quel est le plus grand indice du tableau ?  \n",
    "10841   \n",
    "\n",
    "\n",
    "- Le tableau est-il trié par ordre alphabétique ?  \n",
    "non  "
   ]
  },
  {
   "cell_type": "code",
   "execution_count": null,
   "metadata": {},
   "outputs": [],
   "source": [
    "tab_des_apps[234]"
   ]
  },
  {
   "cell_type": "code",
   "execution_count": null,
   "metadata": {},
   "outputs": [],
   "source": [
    "tab_des_apps[345]"
   ]
  },
  {
   "cell_type": "code",
   "execution_count": null,
   "metadata": {},
   "outputs": [],
   "source": [
    "tab_des_apps[1234]"
   ]
  },
  {
   "cell_type": "code",
   "execution_count": null,
   "metadata": {},
   "outputs": [],
   "source": [
    "len(tab_des_apps)"
   ]
  },
  {
   "cell_type": "markdown",
   "metadata": {},
   "source": [
    "On rappelle que l'opérateur `in` permet de tester si une sous-chaîne de caractères est présente dans une chaîne de caractères :"
   ]
  },
  {
   "cell_type": "code",
   "execution_count": null,
   "metadata": {},
   "outputs": [],
   "source": [
    "print('chat' in 'chaton')\n",
    "print('Chat' in 'chaton')\n",
    "print('bar' in \"C'est très barbant tout ça !\")\n",
    "print('rab' in \"C'est très barbant tout ça !\")"
   ]
  },
  {
   "cell_type": "markdown",
   "metadata": {},
   "source": [
    "<div class = \"alert alert-info\">\n",
    "Ecrire dans la cellule ci-dessous un algorithme de parcours par élément qui permet d'afficher toutes les applications contenant la chaîne de caractères `'Theme'`"
   ]
  },
  {
   "cell_type": "code",
   "execution_count": null,
   "metadata": {},
   "outputs": [],
   "source": [
    "for elt in tab_des_apps:\n",
    "    if 'Theme' in elt:\n",
    "        print(elt)"
   ]
  },
  {
   "cell_type": "markdown",
   "metadata": {},
   "source": [
    "<div class = \"alert alert-info\">\n",
    "On désire améliorer l'implémentation de l'algorithme ci-dessus en mettant en oeuvre une fonction.  \n",
    "En utilisant une **construction de tableau par compréhension**, écrire une fonction `recherche` qui prend en arguments :  \n",
    "- un tableau `tableau` dont les éléments sont des chaînes de caractères,  \n",
    "- une chaîne de caractères `mot`,  \n",
    "\n",
    "\n",
    "et retourne :  \n",
    "- un tableau `resultat` avec tous éléments de `tableau` contenant `mot`.  \n",
    "\n",
    "\n",
    "Votre fonction `recherche` devra passer les test situés plus bas"
   ]
  },
  {
   "cell_type": "code",
   "execution_count": null,
   "metadata": {},
   "outputs": [],
   "source": [
    "def recherche(tableau, mot):\n",
    "    resultat = [elt for elt in tableau if mot in elt]\n",
    "    return resultat"
   ]
  },
  {
   "cell_type": "code",
   "execution_count": null,
   "metadata": {},
   "outputs": [],
   "source": [
    "assert( recherche(['chat', 'chien', 'puce', 'porc', 'biche', 'mouton'], 'ch') == ['chat', 'chien', 'biche'] )\n",
    "assert( recherche(['riri', 'fifi', 'loulou', 'pif', 'paf', 'pouf'], 'ou') == ['loulou', 'pouf'] )\n",
    "assert( recherche(['riri', 'fifi', 'loulou', 'pif', 'paf', 'pouf'], 'zz') == [ ] )"
   ]
  },
  {
   "cell_type": "markdown",
   "metadata": {},
   "source": [
    "<div class = \"alert alert-info\">\n",
    "Parmi les applications Android, que retrouve-t-on le plus : `'Bike'` ou `'Truck'` ?  \n",
    "`'Truck'`\n"
   ]
  },
  {
   "cell_type": "code",
   "execution_count": null,
   "metadata": {},
   "outputs": [],
   "source": [
    "recherche(tab_des_apps, 'Truck')"
   ]
  },
  {
   "cell_type": "markdown",
   "metadata": {},
   "source": [
    "### Activité 3 : créer un tableau presque trié et un tableau aléatoire\n",
    "\n",
    "Dans cet exercice nous utiliserons la fonction `afficher_tableau_d_entiers` afin de représenter sous forme de diagramme en bâtons les tableaux qui sont en jeu (INUTILE DE LIRE SON CODE)."
   ]
  },
  {
   "cell_type": "code",
   "execution_count": null,
   "metadata": {},
   "outputs": [],
   "source": [
    "import matplotlib.pyplot as plt\n",
    "\n",
    "def afficher_tableau_d_entiers(tableau):\n",
    "    plt.figure(figsize=(9, 9))\n",
    "    plt.axes(aspect='equal')\n",
    "    plt.bar(range(len(tableau)), tableau)\n",
    "    plt.xlabel('indices')\n",
    "    plt.ylabel('valeur des éléments')"
   ]
  },
  {
   "cell_type": "markdown",
   "metadata": {},
   "source": [
    "Voici par exemple un tableau `T` de taille `N=60`, trié par ordre croissant et obtenu par compréhension :"
   ]
  },
  {
   "cell_type": "code",
   "execution_count": null,
   "metadata": {},
   "outputs": [],
   "source": [
    "N = 60\n",
    "T = [7 + i for i in range(N)]\n",
    "print(T)"
   ]
  },
  {
   "cell_type": "markdown",
   "metadata": {},
   "source": [
    "On peut facilement le représenter graphiquement :"
   ]
  },
  {
   "cell_type": "code",
   "execution_count": null,
   "metadata": {},
   "outputs": [],
   "source": [
    "afficher_tableau_d_entiers(T)"
   ]
  },
  {
   "cell_type": "markdown",
   "metadata": {},
   "source": [
    "**L'objectif de l'exercice est d'obtenir des tableaux presque triés tels que :**\n",
    "    "
   ]
  },
  {
   "cell_type": "code",
   "execution_count": null,
   "metadata": {},
   "outputs": [],
   "source": [
    "T_final = [7, 6, 5, 4, 3, 12, 11, 10, 9, 8, 17, 16, 15, 14, 13, \n",
    "           22, 21, 20, 19, 18, 27, 26, 25, 24, 23, 32, 31, 30, 29, 28, \n",
    "           37, 36, 35, 34, 33, 42, 41, 40, 39, 38, 47, 46, 45, 44, 43, \n",
    "           52, 51, 50, 49, 48, 57, 56, 55, 54, 53, 62, 61, 60, 59, 58]\n",
    "\n",
    "afficher_tableau_d_entiers(T_final)"
   ]
  },
  {
   "cell_type": "markdown",
   "metadata": {},
   "source": [
    "Ils devront avoir une très très grande taille : 20 000 d'éléments par exemple.\n",
    "Il est donc hors de question de les saisir à la main. Il va falloir les construire par compréhension.  \n",
    "\n",
    "\n",
    "On voit tout de suite une régularité apparaître : sur l'exemple ci-dessus tous les 5 indices, le même phénomène se reproduit. C'est également ce qui se passait lorsqu'en début d'année vous avez effectué des conversions de secondes en heures, minutes, secondes : toutes les soixantes secondes, les minutes augmentent de 1 et les secondes repartent à zéro.\n",
    "\n",
    "\n",
    "Pour créer un objet avec un retour à zéro régulier, on utilise presque systématiquement l'opérateur ... modulo `%` : rappelez vous :"
   ]
  },
  {
   "cell_type": "code",
   "execution_count": null,
   "metadata": {},
   "outputs": [],
   "source": [
    "T_modulo = [(i%5) for i in range(N)]\n",
    "print(T_modulo)\n",
    "afficher_tableau_d_entiers(T_modulo)"
   ]
  },
  {
   "cell_type": "markdown",
   "metadata": {},
   "source": [
    "<div class = \"alert alert-info\">\n",
    "En observant les trois graphiques précédents, construire **par compréhension** un tableau presque trié de taille `N = 120` et de pseudo-période égale à 5. "
   ]
  },
  {
   "cell_type": "code",
   "execution_count": null,
   "metadata": {},
   "outputs": [],
   "source": [
    "#Votre réponse ici\n",
    "T_presque_trie = [7 + i - 2 * (i%5) for i in range(60)] #à modifier\n",
    "print(T_presque_trie)\n",
    "afficher_tableau_d_entiers(T_presque_trie)\n"
   ]
  },
  {
   "cell_type": "markdown",
   "metadata": {},
   "source": [
    "<div class = \"alert alert-info\">\n",
    "En reprenant ce que vous venez de faire, créer une fonction `creer_tableau_presque_trie` qui prend en paramètres :\n",
    "- un entier `N` donnant la taille du tableau à créer,\n",
    "- un entier `T` donnant la pseudo-période du tableau à créer\n",
    "\n",
    "\n",
    "et qui retourne un tableau presque trié de taille `N` et de pseudo période `T`.\n",
    "\n",
    "Vous testerez votre fonction sur des petites valeurs de N en faisant afficher le tableau.  \n",
    "**Attention :** ne pas afficher le tableau pour de grandes valeurs de `N` : cela pourrait faire planter votre logiciel. Pour de grandes valeurs de `N`, juste garder le tableau en mémoire."
   ]
  },
  {
   "cell_type": "code",
   "execution_count": null,
   "metadata": {},
   "outputs": [],
   "source": [
    "#votre fonction creer_tableau_presque_trié ici\n",
    "\n",
    "def creer_tableau_presque_trie(N, T):\n",
    "    t = [i - 2 * (i%T) for i in range(N)]\n",
    "    return t\n",
    "\n",
    "T_presque_trie = creer_tableau_presque_trie(120, 10)\n",
    "print(T_presque_trie)\n",
    "afficher_tableau_d_entiers(T_presque_trie)"
   ]
  },
  {
   "cell_type": "markdown",
   "metadata": {},
   "source": [
    "<div class = \"alert alert-info\">\n",
    "\n",
    "La fonction `randint` du module `random` permet de générer un nombre entier au hasard.  \n",
    "\n",
    "Créer maintenant une fonction `creer_tableau_nombres_hasard` qui prend en paramètres :\n",
    "- un entier `N` donnant la taille du tableau à créer,\n",
    "- deux entiers `a` et `b` donnant la plage de tirage au hasard,\n",
    "\n",
    "et qui retourne un tableau de taille `N` de nombres entiers aléatoires  compris entre `a` et `b` (construit en compréhension).\n",
    "\n",
    "Vous testerez votre fonction sur des petites valeurs de `N`, de `a` et de `b` en faisant afficher le tableau.  \n",
    "**Attention :** ne pas afficher le tableau pour de grandes valeurs de `N` : cela pourrait faire planter votre logiciel. Pour de grandes valeurs de `N`, juste garder le tableau en mémoire."
   ]
  },
  {
   "cell_type": "code",
   "execution_count": null,
   "metadata": {},
   "outputs": [],
   "source": [
    "#votre fonction creer_tableau_nombres_hasard ici\n",
    "import random\n",
    "\n",
    "def creer_tableau_nombres_hasard(N, a, b):\n",
    "    t = [random.randint(a, b) for i in range(N)]\n",
    "    return t\n",
    "\n",
    "T_hasard = creer_tableau_nombres_hasard(120, 10, 100)\n",
    "print(T_hasard)\n",
    "afficher_tableau_d_entiers(T_hasard)"
   ]
  }
 ],
 "metadata": {
  "kernelspec": {
   "display_name": "Python 3",
   "language": "python",
   "name": "python3"
  },
  "language_info": {
   "codemirror_mode": {
    "name": "ipython",
    "version": 3
   },
   "file_extension": ".py",
   "mimetype": "text/x-python",
   "name": "python",
   "nbconvert_exporter": "python",
   "pygments_lexer": "ipython3",
   "version": "3.6.4"
  }
 },
 "nbformat": 4,
 "nbformat_minor": 2
}
