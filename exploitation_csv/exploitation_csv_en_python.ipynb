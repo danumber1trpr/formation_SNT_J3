{
 "cells": [
  {
   "cell_type": "markdown",
   "metadata": {},
   "source": [
    "*Remarques :* kwarg `newline` pour éviter les problèmes avec`CRLF` , si besoin `reader.__next__ ()` : pour sauter une ligne lors de la lecture"
   ]
  },
  {
   "cell_type": "markdown",
   "metadata": {},
   "source": [
    "# IMPORT FICHIER TEXTE CLASSIQUE"
   ]
  },
  {
   "cell_type": "markdown",
   "metadata": {},
   "source": [
    "Dans l'exemple ci-dessous on transfere le contenu d'un fichier texte ligne par ligne dans une liste.  \n",
    "\n",
    "\n",
    "Chaque ligne se finit par un caractère de saut de ligne, d'où le saut de ligne lors du print : "
   ]
  },
  {
   "cell_type": "code",
   "execution_count": 2,
   "metadata": {},
   "outputs": [
    {
     "name": "stdout",
     "output_type": "stream",
     "text": [
      "administres\n",
      "\n",
      "12\n",
      "------------------\n"
     ]
    }
   ],
   "source": [
    "L = []\n",
    "with open('./listes_de_mots/gutemberg.txt', encoding='utf-8') as f:\n",
    "    for line in f:\n",
    "        L.append(line)\n",
    "print(L[4811])\n",
    "print(len(L[4811]))\n",
    "print('------------------')"
   ]
  },
  {
   "cell_type": "markdown",
   "metadata": {},
   "source": [
    "On peut facilement y remédier lors de la construction de la liste L en copiant la ligne privée des éventuels sauts de ligne et espaces situés en fin de chaîne de caractères (grâce à la méthode <code>.rstrip()</code>) :"
   ]
  },
  {
   "cell_type": "code",
   "execution_count": 5,
   "metadata": {},
   "outputs": [
    {
     "name": "stdout",
     "output_type": "stream",
     "text": [
      "administres\n",
      "11\n",
      "------------------\n"
     ]
    }
   ],
   "source": [
    "L = []\n",
    "with open('./listes_de_mots/gutemberg.txt', encoding='utf-8') as f:\n",
    "    for line in f:\n",
    "        L.append(line.rstrip())    #<--------------------   remarquer le changement sur cette ligne de code\n",
    "print(L[4811])\n",
    "print(len(L[4811]))\n",
    "print('------------------')"
   ]
  },
  {
   "cell_type": "markdown",
   "metadata": {},
   "source": [
    "# Prénoms\n",
    "\n",
    "<a id=\"prenoms\"></a>\n",
    "[Vers la notice](#notice_prenoms)\n",
    "\n",
    "Nous allons utiliser en exemple le fichier csv des attributions de prenoms."
   ]
  },
  {
   "cell_type": "markdown",
   "metadata": {},
   "source": [
    "https://www.insee.fr/fr/statistiques/2540004#consulter\n",
    "\n",
    "Le premier fichier national comporte 636 474 enregistrements et quatre variables décrites ci-après.  \n",
    "\n",
    "Ce fichier est trié selon les variables SEXE, PREUSUEL, ANNAIS.  \n",
    "- Nom : SEXE - intitulé : sexe - Type : caractère - Longueur : 1 - Modalité : 1 pour masculin, 2 pour féminin\n",
    "- Nom : PREUSUEL - intitulé : premier prénom - Type : caractère - Longueur : 25\n",
    "- Nom : ANNAIS - intitulé : année de naissance - Type : caractère - Longueur : 4 - Modalité : 1900 à 2018, XXXX\n",
    "- Nom : NOMBRE - intitulé : fréquence - Type : numérique - Longueur : 8\n",
    "\n",
    "En version tableur :\n",
    "\n",
    "![capture d'ecran du fichier csv](.\\images\\csv_prenoms.jpg)\n",
    "\n",
    "En version texte :\n",
    "\n",
    "![capture d'ecran du fichier csv](.\\images\\csv_prenoms_texte.jpg)\n",
    "\n",
    "    \n",
    " **Attention** aux cas où Année = \"XXXX\" (voir notice)\n",
    " \n",
    " \n",
    " On peut assez facilement faire un import sans prendre en compte le rôle particulier de la ligne d'en-tête. Pour cela on ouvre le fichier puis on crée un objet <code>reader</code>. La fonction ci-dessous n'est pas à savoir refaire : il suffit de la fournir aux élèves si besoin ... Les deux seules choses à modifier avant de l'utiliser sont :\n",
    " - l'encodage (en ouvrant votre fichier dans Notepad++ par exemple, vous aurez son encodage et vous pourrez même convertir l'encodage en utf-8 si besoin),\n",
    " - le délimiteur : la capture d 'écran ci-dessus nous montre que le délimiteur est bien le point virgule.\n",
    "\n",
    "\n",
    "**Dans tous les cas avant d'importer un fichier csv dans python, il apparait nécessaire de l'éditer dans Notepad++ pour vérifier son encodage et son délimiteur ...**"
   ]
  },
  {
   "cell_type": "code",
   "execution_count": 4,
   "metadata": {},
   "outputs": [],
   "source": [
    "import csv\n",
    "def charger_fichier( nom_fic ):\n",
    "    \"\"\"\n",
    "    Permet de lire un fichier CSV sans utiliser la ligne d'en-tête\n",
    "    \"\"\"\n",
    "    lignes = [] \n",
    "    with open( nom_fic ,\"r\", newline =\"\", encoding =\"utf -8\") as csvfile :\n",
    "        lecteur = csv.reader ( csvfile , delimiter =\";\")\n",
    "        for enreg in lecteur : \n",
    "            lignes.append (enreg)\n",
    "    return lignes\n",
    "\n",
    "ma_liste = charger_fichier(\"./prenoms/nat2018.csv\")"
   ]
  },
  {
   "cell_type": "code",
   "execution_count": 5,
   "metadata": {},
   "outputs": [
    {
     "name": "stdout",
     "output_type": "stream",
     "text": [
      "['sexe', 'preusuel', 'annais', 'nombre']\n",
      "['1', 'A', '1980', '3']\n",
      "['1', 'A', '1998', '3']\n",
      "['1', 'AADEL', '1987', '5']\n"
     ]
    }
   ],
   "source": [
    "print(ma_liste[0])\n",
    "print(ma_liste[1])\n",
    "print(ma_liste[2])\n",
    "print(ma_liste[16])"
   ]
  },
  {
   "cell_type": "markdown",
   "metadata": {},
   "source": [
    "**Remarque : Attention, les éléments de la liste sont des chaînes de caractères !**   "
   ]
  },
  {
   "cell_type": "markdown",
   "metadata": {},
   "source": [
    "<div class=\"alert alert-info\">\n",
    "**Exercice :**  \n",
    "En utilisant la liste des enregistrements, écrire une fonction <code>extraire_donnees_prenom</code> qui prend la liste des enregistrements, le sexe et un prénom en argument et retourne deux listes **de même longueur** :\n",
    "\n",
    "- la liste des années pour lesquelles ce prénom est attribué (sauf si l'année est 'XXXX')\n",
    "- la liste des effectifs  corerspondant aux années où ce prénom a été attribué (sauf si l'année est 'XXXX')"
   ]
  },
  {
   "cell_type": "code",
   "execution_count": 6,
   "metadata": {},
   "outputs": [],
   "source": [
    "def extraire_prenom(L, sexe, prenom):\n",
    "    '''\n",
    "    Affiche le nombre d'attributions du prenom en fonction de l'année\n",
    "    Retourne le couple ( liste annees, liste effectifs)\n",
    "    '''\n",
    "    annees=[]\n",
    "    effectifs=[]\n",
    "    # à compléter\n",
    "    #\n",
    "    #\n",
    "    #\n",
    "    #\n",
    "    #\n",
    "    return (annees, effectifs)"
   ]
  },
  {
   "cell_type": "markdown",
   "metadata": {},
   "source": [
    "On peut alors facilement tracer la courbe d'attributions du prénom :"
   ]
  },
  {
   "cell_type": "code",
   "execution_count": 11,
   "metadata": {},
   "outputs": [
    {
     "data": {
      "image/png": "[encoded data removed]",
      "text/plain": [
       "<matplotlib.figure.Figure at 0x209e6c6fba8>"
      ]
     },
     "metadata": {},
     "output_type": "display_data"
    }
   ],
   "source": [
    "import matplotlib.pyplot as plt\n",
    "\n",
    "\n",
    "(annees_prenom, effectifs_prenom) = extraire_prenom(ma_liste, '2', 'THéRèSE')\n",
    "plt.plot(annees_prenom, effectifs_prenom)\n",
    "plt.show()"
   ]
  },
  {
   "cell_type": "markdown",
   "metadata": {},
   "source": [
    "# Pour aller plus loin en autonomie : Positions des monuments historiques\n",
    "<a id=\"monuments\"></a>\n",
    "\n",
    "https://www.data.gouv.fr/fr/datasets/immeubles-proteges-au-titre-des-monuments-historiques/#_\n",
    "\n",
    "Imprécision des coordonnées ...\n",
    "\n",
    "\n",
    "-  0 Appellation courante\n",
    "-  1 Siecle\n",
    "-  2 Précision sur la Protection\n",
    "-  3 Date de Protection\n",
    "-  4 Statut\n",
    "-  5 Description\n",
    "-  6 Historique\n",
    "-  7 Auteur\n",
    "-  8 Adresse\n",
    "-  9 Siecle_format_brut\n",
    "- 10 Région\n",
    "- 11 Département\n",
    "- 12 Commune\n",
    "- 13 Affectataire\n",
    "- 14 Niveau de protection\n",
    "- 15 Adresse1\n",
    "- 16 Commune1\n",
    "- 17 Code département\n",
    "- 18 Ancienne région\n",
    "- 19 DMAJ\n",
    "- 20 Référence\n",
    "- 21 Base\n",
    "- 22 INSEE\n",
    "- 23 coordonnees_ban"
   ]
  },
  {
   "cell_type": "markdown",
   "metadata": {},
   "source": [
    "<div class=\"alert alert-info\">\n",
    "On pourra étudier le code suivant en autonomie après avoir consulté le contenu du fichier csv utilisé."
   ]
  },
  {
   "cell_type": "code",
   "execution_count": 20,
   "metadata": {},
   "outputs": [],
   "source": [
    "import folium\n",
    "from folium.plugins import MarkerCluster\n",
    "\n",
    "def selectionner( L ):\n",
    "    liste_coords = []\n",
    "    liste_legendes = []\n",
    "    for monument in L:\n",
    "        coords_as_string = monument[23]\n",
    "        try:\n",
    "            L = coords_as_string.split(',')\n",
    "            L[0] = float(L[0])\n",
    "            L[1] = float(L[1])\n",
    "            liste_coords.append(L)\n",
    "            liste_legendes.append(monument[0])\n",
    "        except:\n",
    "            pass\n",
    "    return (liste_coords, liste_legendes)\n",
    "\n",
    "def ajouter_markers_sur_carte( liste_coords, liste_legendes, carte):\n",
    "    marker_cluster = MarkerCluster().add_to(carte)\n",
    "    index = 0\n",
    "    for coord in liste_coords:\n",
    "        marker = folium.vector_layers.CircleMarker(location=list(coord), popup = liste_legendes[index])\n",
    "        marker.add_to(marker_cluster)\n",
    "        index += 1\n",
    "    return marker_cluster\n",
    "\n",
    "\n",
    "L = charger_fichier('./monuments/monuments_historiques_gps.csv')\n",
    "(coords, legendes) = selectionner(L)\n"
   ]
  },
  {
   "cell_type": "code",
   "execution_count": 21,
   "metadata": {},
   "outputs": [],
   "source": [
    "ma_carte = folium.Map(location=(45, 0), zoom_start=6)\n",
    "ajouter_markers_sur_carte( coords, legendes, ma_carte)\n",
    "folium.LayerControl().add_to(ma_carte) \n",
    "ma_carte.save('ma_carte_monuments.html')"
   ]
  },
  {
   "cell_type": "markdown",
   "metadata": {},
   "source": [
    "# Notice Prénoms\n",
    "\n",
    "<a id=\"notice_prenoms\"></a>\n",
    "[Vers le code](#prenoms)\n",
    "\n",
    "Avertissement\n",
    "\n",
    "La refonte du processus électoral a entrainé un nombre de corrections dans la base des prénoms plus important que les années précédentes. En effet, chaque électeur est maintenant inscrit au répertoire électoral unique avec son état-civil officiel (celui du Répertoire national d'identification des personnes physiques / RNIPP), des anomalies ont donc été corigées.\n",
    "\n",
    "Le fichier des prénoms est établi à partir des seuls bulletins de naissance des personnes nées en France (métropole et départements d’outre-mer hors Mayotte). En conséquence, l’exhaustivité n’est pas garantie sur toute la période, notamment pour les années antérieures à 1946. Les utilisateurs pourront donc constater des écarts avec le nombre annuel des naissances évalué par l'Insee. Ces écarts, importants en début de période, vont en s’amenuisant. Après 1946, ils sont peu significatifs.\n",
    "\n",
    "Les informations contenues dans le fichier des prénoms sont basées sur les bulletins d'état-civil transmis à l’Insee par les officiers d’état civil des communes. Ces bulletins sont eux-mêmes établis à partir des déclarations des parents. L'Insee ne peut garantir que le fichier des prénoms soit exempt d'omissions ou d'erreurs.\n",
    "Pour comprendre\n",
    "\n",
    "Pour chaque prénom, il est indiqué pour chaque année de naissance (de 1900 à 2018) et chaque sexe, le nombre de personnes inscrites à l'état civil sous ce prénom. Pour le fichier « DPT2018 », la précision est apportée pour chaque département.\n",
    "\n",
    "Les personnes prises en compte\n",
    "\n",
    "Le champ couvre l'ensemble des personnes nées en France hors Mayotte et enregistrées à l'état civil sur les bulletins de naissance. Les personnes nées à l'étranger sont exclues.\n",
    "\n",
    "Le champ des prénoms retenus\n",
    "\n",
    "Dans les fichiers de l’état civil, en l'occurrence les bulletins de naissance, les différents prénoms sont séparés par une espace (ou blanc). Ainsi deux prénoms séparés par un tiret constituent un seul prénom composé (exemple : Anne-Laure). Le premier prénom simple ou composé figure en début de liste, et c'est celui qui sera retenu après le traitement de la protection de l'anonymat.\n",
    "\n",
    "Conditions portant sur les prénoms retenus\n",
    "\n",
    "    1. Sur la période allant de 1900 à 1945, le prénom a été attribué au moins 20 fois à des personnes de sexe féminin et/ou au moins 20 fois à des personnes de sexe masculin\n",
    "    2. Sur la période allant de 1946 à 2018, le prénom a été attribué au moins 20 fois à des personnes de sexe féminin et/ou au moins 20 fois à des personnes de sexe masculin\n",
    "    3. Pour une année de naissance donnée, le prénom a été attribué au moins 3 fois à des personnes de sexe féminin ou de sexe masculin\n",
    "\n",
    "Les effectifs des prénoms ne remplissant pas les conditions 1 et 2 sont regroupés (pour chaque sexe et chaque année de naissance) dans un enregistrement dont le champ prénom (PREUSUEL) prend la valeur «_PRENOMS_RARES_». Les effectifs des prénoms remplissant la condition 2 mais pas la condition 3 sont regroupés (pour chaque sexe et chaque prénom) dans un enregistrement dont le champ année de naissance (ANNAIS) prend la valeur «XXXX».\n",
    "\n",
    "Précision pour le département de naissance\n",
    "\n",
    "Sur toute la période, le département de naissance (variable DPT) est celui existant au moment de la naissance. Ainsi une personne née à Issy-les-Moulineaux en 1949 sera codée en 75 (Seine), et une personne née en 1971 à Issy-les-Moulineaux sera codée en 92 (Hauts-de-Seine).\n",
    "\n",
    "En effet, de par la loi n° 64-707 du 10/07/1964, il y a eu création des départements 75 (Paris), 78 (Yvelines), 91 (Essonne), 92 (Hauts-de-Seine), 93 (Seine-Saint-Denis), 94 (Val-de-Marne) et 95 (Val-d'Oise), à partir des anciens départements 75 (Seine) et 78 (Seine-et-Oise), avec une date d'effet dans le fichier au 1er janvier 1968.\n",
    "\n",
    "Deux regroupements de codes ont été faits pour la variable DPT :\n",
    "\n",
    "    le code DPT=20 est utilisé pour les naissances ayant eu lieu dans les deux départements 2A (Corse-du-Sud) et 2B (Haute-Corse) ;\n",
    "    le code DPT=97 est utilisé pour les naissances ayant eu lieu en Guadeloupe, en MArtinique, en Guyane et à La Réunion.\n",
    "\n",
    "Décrets et lois relatifs aux départements métropolitains\n",
    "\n",
    "    Décret du 18/01/1955 : la Seine-Inférieure devient Seine-Maritime (76)\n",
    "\n",
    "    Décret du 09/03/1957 : la Loire-Inférieure devient Loire-Atlantique (44)\n",
    "\n",
    "    Loi n° 64-707 du 10/07/1964 : création des départements 75 (Paris), 78 (Yvelines), 91 (Essonne), 92 (Hauts-de-Seine), 93 (Seine-Saint-Denis), 94 (Val-de-Marne) et 95 (Val-d'Oise)\n",
    "\n",
    "    Décret du 10/10/1969 : les Basses-Pyrénées deviennent Pyrénées-Atlantiques (64)\n",
    "\n",
    "    Décret du 13/04/1970 : les Basses-Alpes deviennent Alpes-de-Haute-Provence (04)\n",
    "\n",
    "    Loi n° 75-356 du 15/05/1975 : création des départements 2A (Corse-du-Sud) et 2B (Haute-Corse)\n",
    "\n",
    "    Décret du 27/02/1990 : les Côtes-du-Nord deviennent Côtes-d'Armor (22)\n",
    "\n",
    "Éléments de contexte sur le choix des prénoms\n",
    "\n",
    "Il n'existe pas de liste de prénoms autorisés. Les prénoms connus étrangers ou certains diminutifs peuvent ainsi être choisis. En conséquence, on peut trouver par exemple des prénoms à une seule lettre dans le fichier des prénoms. Ce sont effectivement les parents qui choisissent librement le ou les prénoms de l’enfant lors de la déclaration de naissance. En particulier depuis 1993, l’officier d’état civil ne peut plus refuser le prénom choisi par les parents. Il peut toutefois avertir le procureur de la République s’il estime que le prénom nuit à l’intérêt de l’enfant (exemple : prénom ridicule ou grossier) ; ou que le prénom méconnaît le droit d’un tiers à voir protéger son nom de famille (exemple : un parent ne peut choisir comme prénom le nom de famille d’une autre personne dont l’usage constituerait une usurpation). Le procureur peut ensuite saisir le juge aux affaires familiales qui peut demander la suppression du prénom sur les registres de l’état civil. Dans ce cas le prénom serait également supprimé du fichier des prénoms.\n",
    "\n",
    "L'alphabet utilisé pour l’écriture des prénoms doit être celui qui sert à l'écriture du français. Les caractères alphabétiques qui ne sont pas utilisés dans la langue française ne sont donc pas autorisés (par exemple le « ñ » ou le « ș » ). Ainsi, par exemple, le prénom d'origine roumaine \"Rareș\" apparaît en tant que \"RARES\" dans le fichier des prénoms.\n",
    "Sources\n",
    "\n",
    "Une présentation générale de la source état civil est accessible dans la rubrique « Définitions, méthodes et qualité » du site insee.fr.\n"
   ]
  },
  {
   "cell_type": "markdown",
   "metadata": {},
   "source": [
    "<div class=\"alert alert-danger\">\n",
    "## CORRECTION"
   ]
  },
  {
   "cell_type": "code",
   "execution_count": 10,
   "metadata": {},
   "outputs": [],
   "source": [
    "import matplotlib.pyplot as plt\n",
    "\n",
    "def extraire_prenom(L, sexe, prenom):\n",
    "    '''\n",
    "    Affiche le nombre d'attributions du prenom en fonction de l'année\n",
    "    Retourne le couple ( liste annees, liste effectifs)\n",
    "    '''\n",
    "    annees=[]\n",
    "    effectifs=[]\n",
    "    prenom = prenom.upper()\n",
    "    for enregistrement in L:\n",
    "        if enregistrement[0] == sexe and enregistrement[1] == prenom:\n",
    "            if enregistrement[2] != 'XXXX':\n",
    "                annees.append(int(enregistrement[2]))\n",
    "                effectifs.append(int(enregistrement[3]))\n",
    "    return (annees, effectifs)\n"
   ]
  }
 ],
 "metadata": {
  "kernelspec": {
   "display_name": "Python 3",
   "language": "python",
   "name": "python3"
  },
  "language_info": {
   "codemirror_mode": {
    "name": "ipython",
    "version": 3
   },
   "file_extension": ".py",
   "mimetype": "text/x-python",
   "name": "python",
   "nbconvert_exporter": "python",
   "pygments_lexer": "ipython3",
   "version": "3.6.4"
  }
 },
 "nbformat": 4,
 "nbformat_minor": 2
}
