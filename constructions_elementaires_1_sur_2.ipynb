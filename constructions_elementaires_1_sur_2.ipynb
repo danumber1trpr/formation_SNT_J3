{
 "cells": [
  {
   "cell_type": "markdown",
   "metadata": {},
   "source": [
    "# Séquence 1-A : Constructions élémentaires - partie 1/2\n",
    "\n",
    "Les langages de programmation s'adressent à des machines. Il existe une très grande diversité de langages de programmation puisqu'il en existe environ 700 actuellement (on pourra en consulter la liste en dehors des cours sur [Wikipédia](https://fr.wikipedia.org/wiki/Liste_de_langages_de_programmation)).\n",
    "\n",
    "Malgré cette diversité tous ces langages de programmation ont des traits communs et comportent des instructions correspondant à ce qu'on appelle des **constructions élémentaires des langages de programmation**. Vous avez déjà rencontré ces constructions élémentaires en programmant en Scratch au Collège et en programmant un peu en Python l'an dernier.\n",
    "\n",
    "Notons, avant de rappeler quelles sont ces constructions élémentaires, que **certains langages informatiques** vus l'an dernier en SNT **ne sont pas des langages de programmation** mais des **langages de description** (HTML, CSS...) ou des **langages de requête** à des bases de donénes (SQL, XQuery...). Les constructions élémentaires dont nous allons maintenant parler ne concernent que les langages de programmation.\n",
    "\n",
    "\n",
    "## Séquences\n",
    "\n",
    "Les **séquences d'instructions** sont les instructions, écrites les unes après les autres, ligne après ligne. Il n'y a pas lieu de s'attarder sur les séquences puisqu'on est habitué à travailler avec des séquences d'instructions depuis notre plus jeune âge (recettes de cuisine, énoncés d'exercices, notices de montage de jeux de construction, notice de montage de fabricants de meuble etc.)\n",
    "\n",
    "## Affectations\n",
    "\n",
    "Les **affectations** sont les instructions qui permettent d'affecter des valeurs à des variables. De façon imagée, cela permet de mémoriser des valeurs grâce à des noms de variables. Il faut ici rappeler que dans beaucoup de langages de programmation il existe plusieurs **types de variables**. L'an dernier vous avez rencontré quatre types de variables :\n",
    "- les entiers (qui correspondent aux nombres entiers)\n",
    "- les flottants (qui correspondent **en première approche** aux nombres décimaux)\n",
    "- les booléens (qui correspondent à la notion Vrai / Faux)\n",
    "- les chaînes de caractères (qui correspondent à du texte)\n",
    "\n",
    "On peut facilement demander, en python, obtenir le type d'une variable grâce à la méthode <code>type</code> :"
   ]
  },
  {
   "cell_type": "code",
   "execution_count": null,
   "metadata": {},
   "outputs": [],
   "source": [
    "a = 4\n",
    "b = 6.75\n",
    "c = True\n",
    "d = 'début d\\'année en NSI'\n",
    "print('a est une variable de type : ', type(a))\n",
    "print('b est une variable de type : ', type(b))\n",
    "print('c est une variable de type : ', type(c))\n",
    "print('d est une variable de type : ', type(d))"
   ]
  },
  {
   "cell_type": "markdown",
   "metadata": {},
   "source": [
    "<div class=\"alert alert-info\">\n",
    "    \n",
    "**Question** : Rappeler quels sont les mots anglais correspondant aux abréviations <code>int</code>, <code>bool</code> et <code>str</code>.\n",
    "\n",
    "*Votre réponse ici ...*"
   ]
  },
  {
   "cell_type": "markdown",
   "metadata": {},
   "source": [
    "Une chose importante à noter concernant les affectations est la signification du symbole <code>=</code>. Il doit être précédé (à gauche) d'un nom de variable et suivi (à droite) d'une expression évaluable. Lorsque le programme est exécuté, une instruction d'affectation se déroule en deux étapes **successives** :\n",
    "- l'expression de droite est évaluée (c'est à dire calculée)\n",
    "- le résultat est affecté à la variable mentionnée à gauche\n",
    "\n",
    "Ainsi lorsque vous lisez dans un code l'instruction <code>a = a + 1</code> vous ne devez surtout pas comprendre que <code>a</code> et <code>a + 1</code> sont égaux. Vous devez comprendre que l'on va calculer <code>a + 1</code> puis que cette nouvelle valeur va remplacer l'ancienne valeur de <code>a</code>."
   ]
  },
  {
   "cell_type": "markdown",
   "metadata": {},
   "source": [
    "<div class=\"alert alert-info\">\n",
    "    \n",
    "**Questions** :  \n",
    "- Pourquoi  <code>a</code> et <code>a + 1</code> ne peuvent pas être égaux ?  \n",
    "*Votre réponse ici ...*  \n",
    "  \n",
    "  \n",
    "- Que fait l'instruction <code>a = a + 1</code> ?  \n",
    "*Votre réponse ici ...\n",
    "\n",
    "\n",
    "- Donner la valeur de la variable <code>res</code> à la fin de la séquence d'instructions ci-dessous.  \n",
    "*Votre réponse ici ...*  \n",
    "On pourra vérifier sa réponse en exécutant la cellule de code après avoir ajouté une instruction <code>print(res)</code>."
   ]
  },
  {
   "cell_type": "code",
   "execution_count": 2,
   "metadata": {},
   "outputs": [],
   "source": [
    "a = 2\n",
    "b = 6\n",
    "c = 100\n",
    "res = b * a\n",
    "res = res + c\n",
    "res = 2 * res - a"
   ]
  },
  {
   "cell_type": "markdown",
   "metadata": {},
   "source": [
    "## Conditionnelles : <code>if</code> "
   ]
  },
  {
   "cell_type": "markdown",
   "metadata": {},
   "source": [
    "Les instructions **conditionnelles** sont exécutées uniquement si une certaine **condition** est vérifiée. On parle aussi d'instruction <code>if</code>. La vérification de la condition est effectuée grâce à un **test conditionnel**. Selon les langages, la syntaxe diffère : parfois <code>if( ... ) then{ ... } else{ ... }</code> ou parfois une syntaxe plus légère comme en python : "
   ]
  },
  {
   "cell_type": "code",
   "execution_count": null,
   "metadata": {},
   "outputs": [],
   "source": [
    "import random\n",
    "\n",
    "a = random.randint(1,6)\n",
    "if a == 6:\n",
    "    fin_message = \"gagné\"\n",
    "else:\n",
    "    fin_message = \"perdu\"\n",
    "print(\"La valeur de a est\", a, \"vous avez\" , fin_message)\n",
    "\n"
   ]
  },
  {
   "cell_type": "markdown",
   "metadata": {},
   "source": [
    "<div class=\"alert alert-info\">\n",
    "    \n",
    "**Questions** :  \n",
    "- La première instruction <code>import random</code> importe le module <code>random</code> qui offre des méthodes pour générer des nombres aléatoires (c'est à dire tirés au hasard). Rappeler ce que fait la méthode <code>randint(1, 6)</code> (on pourra si besoin rechercher la réponse sur Internet).  \n",
    "*Votre réponse ici ...*  \n",
    "\n",
    "\n",
    "- Expliquer dans quel cas l'instruction de la ligne 5 est exécutée et dans quel cas la ligne 5 n'est pas exécutée.  \n",
    "*Votre réponse ici ...*  \n",
    "\n",
    "\n",
    "- Expliquer dans quel cas l'instruction de la ligne 7 est exécutée et dans quel cas la ligne 7 n'est pas exécutée.  \n",
    "*Votre réponse ici ...*  \n",
    "  \n",
    "\n",
    "- Quel est le type de la variable <code>fin_message</code> ?  \n",
    "*Votre réponse ici ...*  \n",
    "\n",
    "\n",
    "- Expliquer dans quels cas on utilise le symbole <code>==</code> et dans quels cas on utilise le symbole <code>=</code>.  \n",
    "*Votre réponse ici ...*  \n",
    "\n",
    "\n",
    "- Modifier la séquence d'instructions pour qu'elle corresponde au lancer de deux dés avec une victoire si la somme des deux dés est égale à 7.  \n",
    "\n",
    "\n",
    "- Modifier la séquence d'instructions pour qu'elle corresponde au lancer de deux dés avec une victoire si la somme des deux dés est égale à 2 ou à 12. On utilisera le mot clef <code>or</code> dans le test conditionnel."
   ]
  },
  {
   "cell_type": "markdown",
   "metadata": {},
   "source": [
    "## Boucles bornées <code>for</code>\n",
    "Les **boucles** bornées permettent de **répéter** un certain nombre de fois une ou plusieurs instructions. Ainsi la séquence d'instructions ci-dessous :  \n",
    "\n",
    "![séquence avec une boucle](.\\images\\boucle_bornee_3.jpg)\n",
    "\n",
    "correspond à la séquence d'instructions ci-dessous :\n",
    "\n",
    "![séquence avec une boucle déroulée](.\\images\\boucle_bornee_2.jpg)\n",
    "\n",
    "On voit donc que pour comprendre une **répétition d'instructions**, on peut imaginer qu'il y a des **boucles** dans la séquence d'instructions (d'où le nom de **boucle** qu'ont donné les programmeurs à cette construction élémentaire).\n",
    "\n",
    "![séquence avec une boucle déroulée](.\\images\\boucle.png)\n",
    "\n",
    "Les **boucles bornées** sont aussi appelées **boucles <code>for</code>** car le mot clef <code>for</code> est utilisé dans la majorité des langages de programmation. Cela est assez naturel puisque la séquence d'instructions suivante qui s'adresserait à un enfant  :\n",
    "<pre>\n",
    "<strong>Répéter</strong> 10 fois :\n",
    "    Couper un ongle pas encore coupé\n",
    "    Limer cet ongle\n",
    "    Vernir cet ongle\n",
    "    \n",
    "</pre>\n",
    "\n",
    "est équivalente à :\n",
    "<pre>\n",
    "<strong>Pour</strong> chacun de tes 10 doigts:\n",
    "    Couper un ongle\n",
    "    Limer cet ongle\n",
    "    Vernir cet ongle\n",
    "</pre>"
   ]
  },
  {
   "cell_type": "markdown",
   "metadata": {},
   "source": [
    "Ainsi cette syntaxe avec **for** correspond à une répétition où **l'on parcourt un ensemble** (ici les dix doigts des deux mains de l'enfant) et où, pour chacun des éléments de l'ensemble (ici un doigt), on effectue la ou les instructions spécifiées."
   ]
  },
  {
   "cell_type": "markdown",
   "metadata": {},
   "source": [
    "<div class=\"alert alert-info\">\n",
    "\n",
    "On considère la séquence d'instructions suivantes :\n",
    "<pre>\n",
    "Pour chacun des jours de l'année :\n",
    "    Mettre exactement un euro de côté\n",
    "    Faire exactement cinq pompes au réveil\n",
    "</pre>    \n",
    "**Questions** :  \n",
    "- Quel est l'ensemble qui est parcouru ? Quels sont les éléments de cet ensemble ?    \n",
    "*Votre réponse ici ...*\n",
    "\n",
    "\n",
    "- Combien d'euros auront été épargnés grâce à cette méthode d'épargne ?  \n",
    "*Votre réponse ici ...*\n",
    "\n",
    "\n",
    "- Combien de pompes auront été effectuées au réveil ?  \n",
    "*Votre réponse ici ...*\n",
    "\n"
   ]
  },
  {
   "cell_type": "markdown",
   "metadata": {},
   "source": [
    "<div class=\"alert alert-info\">\n",
    "\n",
    "On considère la séquence d'instructions suivantes :\n",
    "<pre>\n",
    "Vider une tirelire A\n",
    "Vider une tirelire B\n",
    "Pour chacun des nombres entiers i entre 10 (compris) et 15 (non compris):\n",
    "    Ajouter 1 euro dans la tirelire A\n",
    "    Ajouter i euros dans la tirelire B\n",
    "</pre>    \n",
    "**Questions** :  \n",
    "- Quel est l'ensemble qui est parcouru ? Quels sont les éléments de cet ensemble ?    \n",
    "*Votre réponse ici ...*\n",
    "\n",
    "\n",
    "- Combien d'euros auront été placés dans la tirelire A ?  \n",
    "*Votre réponse ici ...*\n",
    "\n",
    "\n",
    "- Combien d'euros auront été placés dans la tirelire B ?  \n",
    "*Votre réponse ici ...*"
   ]
  },
  {
   "cell_type": "markdown",
   "metadata": {},
   "source": [
    "En python, pour faire une boucle bornée on a souvent besoin d'un **objet** <code>range</code> qui permet de décrire très simplement les nombres entiers compris entre deux bornes. Gardez en tête que <code>range</code> est **presque** une liste de nombres :"
   ]
  },
  {
   "cell_type": "code",
   "execution_count": null,
   "metadata": {},
   "outputs": [],
   "source": [
    "R = range(10, 20)\n",
    "print(list(R))"
   ]
  },
  {
   "cell_type": "markdown",
   "metadata": {},
   "source": [
    "<div class=\"alert alert-info\">\n",
    "\n",
    "**Question** :  \n",
    "- Jouez un peu en modifiant les bornes du <code>range</code> ci-dessus. Mettez des valeurs négatives, une valeur plus petite à droite qu'à gauche etc. Notez ensuite ci-dessous dans quels cas l'objet <code>range</code> est vide et dans quel cas on obtient une erreur de la part de python.  \n",
    "*Votre réponse ici ...*\n",
    "\n",
    "**Attention** : si vous vous amusez à obtenir une liste avec un millions de valeurs vous risquez de planter votre navigateur et tout votre travail par la même occasion. Une petite sauvegarde s'impose peut-être ..."
   ]
  },
  {
   "cell_type": "markdown",
   "metadata": {},
   "source": [
    "L'objet <code>range</code> peut aussi ne prendre qu'un seul **argument**, dans ce cas il décrit les nombres entiers de zéro jusqu'à l'entier (positif) fourni en **argument** (exclu) :"
   ]
  },
  {
   "cell_type": "code",
   "execution_count": null,
   "metadata": {},
   "outputs": [],
   "source": [
    "R = range(10)\n",
    "print(list(R))"
   ]
  },
  {
   "cell_type": "markdown",
   "metadata": {},
   "source": [
    "<div class=\"alert alert-info\">\n",
    "\n",
    "**Question** :  \n",
    "- Jouez un peu en modifiant l'argument du <code>range</code> ci-dessus. Combien <code>R</code> comporte-t-il d'éléments si l'argument est négatif ?  \n",
    "*Votre réponse ici ...*\n",
    "\n",
    "- Testez <code>range(10, 100, 3)</code>. À quoi correspond le nombre 3 (que l'on appelle le *pas*) ?  \n",
    "*Votre réponse ici ...*"
   ]
  },
  {
   "cell_type": "markdown",
   "metadata": {},
   "source": [
    "Une fois que l'on a compris ce qu'est un objet <code>range</code>, on peut comprendre la séquence d'instructions suivante :"
   ]
  },
  {
   "cell_type": "code",
   "execution_count": 1,
   "metadata": {},
   "outputs": [],
   "source": [
    "tirelireA = 0\n",
    "tirelireB = 0\n",
    "tirelireC = 0\n",
    "for i in range(6): \n",
    "    tirelireA = tirelireA + 1\n",
    "    tirelireB = tirelireB + i\n",
    "    tirelireC = tirelireC * i  "
   ]
  },
  {
   "cell_type": "markdown",
   "metadata": {},
   "source": [
    "<div class=\"alert alert-info\">\n",
    "    \n",
    "**Questions :**\n",
    "- Quelles seront les valeurs de <code>tirelireA, tirelireB et tirelireC</code> à la fin de l'exécution de la séquence d'instructions ci-dessus ? Pour <code>tirelireB</code> et <code>tirelireC</code> on écrira le calcul effectué pour obtenir la réponse.  \n",
    "*Votre réponse ici ...*  \n",
    "\n",
    "\n",
    "On pourra vérifier sa réponse en exécutant la cellule de code après avoir ajouté une instruction <code>print(...)</code>"
   ]
  },
  {
   "cell_type": "markdown",
   "metadata": {},
   "source": [
    "<div class=\"alert alert-info\">\n",
    "\n",
    "**Question :**\n",
    "\n",
    "\n",
    "Ecrire une séquence d'instructions permettant de réaliser 15 lancers de dés successifs et d'afficher pour chacun d'eux un message 'Gagné' ou 'Perdu' selon que le résultat du dé est égal ou pas à 6 :"
   ]
  },
  {
   "cell_type": "code",
   "execution_count": null,
   "metadata": {},
   "outputs": [],
   "source": [
    "#Votre séquence d'instructions ici"
   ]
  },
  {
   "cell_type": "markdown",
   "metadata": {},
   "source": [
    "Pour bien comprendre que l'instruction <code>for</code> effectue un parcours d'un ensemble le prochain exemple peut être intéressant. On peut en effet parcourir une chaîne de caractères. Voici un exemple en langage naturel :\n",
    "<pre>\n",
    "Pour chaque caractère C de \"bonjour\" :\n",
    "    si C est une voyelle :\n",
    "        afficher \"voyelle\"\n",
    "    sinon :\n",
    "        afficher \"consonne\"\n",
    "</pre>\n",
    "Qui produirait la sortie suivante :\n",
    "<pre>\n",
    "consonne\n",
    "voyelle\n",
    "consonne\n",
    "consonne\n",
    "voyelle\n",
    "voyelle\n",
    "consonne\n",
    "</pre>\n",
    "\n",
    "En python cela donne :"
   ]
  },
  {
   "cell_type": "code",
   "execution_count": null,
   "metadata": {},
   "outputs": [],
   "source": [
    "for c in \"bonjour\":\n",
    "    if c in \"aeiouy\":\n",
    "        print(\"voyelle\")\n",
    "    else:\n",
    "        print(\"consonne\")\n",
    "    \n",
    "    "
   ]
  },
  {
   "cell_type": "markdown",
   "metadata": {},
   "source": [
    "<div class=\"alert alert-info\">\n",
    "\n",
    "**Question :**\n",
    "\n",
    "\n",
    "Compléter la séquence d'instructions ci-dessous afin de compter le nombre de \"e\" dans la variable <code>texte</code> ci-dessous :"
   ]
  },
  {
   "cell_type": "code",
   "execution_count": 2,
   "metadata": {},
   "outputs": [
    {
     "name": "stdout",
     "output_type": "stream",
     "text": [
      "17\n"
     ]
    }
   ],
   "source": [
    "texte = \"Ceci est un texte avec plein de 'e' qui se répètent. Il est ardu de les compter manuellement.\"\n",
    "compteur = 0\n",
    "for car in texte:\n",
    "    if car == 'e':\n",
    "        compteur = compteur + 1\n",
    "print(compteur)\n",
    "        \n"
   ]
  },
  {
   "cell_type": "markdown",
   "metadata": {},
   "source": [
    "## Boucles non-bornées <code>while</code>\n",
    "\n",
    "Les **boucles bornées** <code>for</code> permettent de répéter un certain nombre de fois une ou plusieurs instructions. Les programmeurs se sont vite rendu compte qu'ils avaient besoin de **boucles non-bornées** qui permettent d'adapter le nombre de boucles à effectuer en fonction du déroulement de la séquence d'instructions.  \n",
    "\n",
    "Voici un exemple classique : celui du kangourou. Dans un jeu vidéo, ce kangourou fait des bonds d'une longueur aléatoire entière comprise entre 30 et 80 pixels. On souhaite modéliser une suite de bonds jusqu'à ce que le kangourou ait parcouru 1000 pixels (au-dessus de 1100 pixels, il sortirait de l'écran) :\n",
    "\n",
    "<pre>\n",
    "distance_parcourue = 0 pixel\n",
    "Tant que la distance parcourue est inférieure à 1000 pixels :\n",
    "    longueur_du_bond = nombre entier entre 30 et 80 pixels\n",
    "    distance_parcourue = distance_parcourue + longueur_du bond\n",
    "    Déplacer le kangourou à l'écran de longueur_du_bond pixels\n",
    "Afficher distance parcourue\n",
    "</pre>"
   ]
  },
  {
   "cell_type": "markdown",
   "metadata": {},
   "source": [
    "<div class=\"alert alert-info\">\n",
    "    \n",
    "**Questions :**\n",
    "- Pourquoi ne peut-on pas connaître à l'avance le nombre de boucles (c'est à dire le nombre de bonds) à effectuer ?  \n",
    "*Votre réponse ici ...*  \n",
    "\n",
    "\n",
    "- Quelle est la traduction en anglais de \"Tant que\" ?  \n",
    "*Votre réponse ici ...*"
   ]
  },
  {
   "cell_type": "markdown",
   "metadata": {},
   "source": [
    "En python la syntaxe utilise le mot clef **while**. Voici un exemple de **boucle non-bornée** qui correspond approximativement à la séquence d'instructions sur le kangourou :"
   ]
  },
  {
   "cell_type": "code",
   "execution_count": 1,
   "metadata": {},
   "outputs": [
    {
     "name": "stdout",
     "output_type": "stream",
     "text": [
      "1048  en  19  bonds.\n"
     ]
    }
   ],
   "source": [
    "import random\n",
    "\n",
    "distance_parcourue = 0\n",
    "nb_bonds = 0\n",
    "while distance_parcourue < 1000:\n",
    "    longueur_du_bond = random.randint(30, 80)\n",
    "    distance_parcourue = distance_parcourue + longueur_du_bond\n",
    "    nb_bonds = nb_bonds + 1\n",
    "print(distance_parcourue, \" en \", nb_bonds, \" bonds.\")\n",
    "\n",
    "\n"
   ]
  },
  {
   "cell_type": "markdown",
   "metadata": {},
   "source": [
    "<div class=\"alert alert-info\">\n",
    "    \n",
    "**Question :**\n",
    "- Compléter la séquence d'instructions ci-dessus afin de pouvoir, à la fin de la boucle, afficher le nombre de sauts effectués. Il faudra pour cela sans doute créer une nouvelle variable ...\n"
   ]
  },
  {
   "cell_type": "markdown",
   "metadata": {},
   "source": [
    "<div class=\"alert alert-info\">\n",
    "    \n",
    "**Question :**\n",
    "- Ecrire une séquence d'instructions ci-dessous qui simule un joueur lançant un dé jusqu'à ce qu'il obtienne un 6. En sortie de boucle **while** il faudra afficher le nombre de lancers de dé qui ont été effectués. On pourra bien entendu s'inspirer de la séquence d'instructions ci-dessus."
   ]
  },
  {
   "cell_type": "code",
   "execution_count": null,
   "metadata": {},
   "outputs": [],
   "source": [
    "# Votre réponse ici"
   ]
  },
  {
   "cell_type": "markdown",
   "metadata": {},
   "source": [
    "<div class=\"alert alert-info\">\n",
    "    \n",
    "**Question :**\n",
    "Pourquoi ne faut-il pas exécuter la cellule ci-dessous ?  \n",
    "**Remarque :** le symbole <code>!=</code> signifie *différent de*.  \n",
    "\n",
    "*Votre réponse ici ...*"
   ]
  },
  {
   "cell_type": "code",
   "execution_count": null,
   "metadata": {},
   "outputs": [],
   "source": [
    "x = 0.5\n",
    "while x != 100:\n",
    "    x = x + 1\n",
    "print(x)"
   ]
  }
 ],
 "metadata": {
  "kernelspec": {
   "display_name": "Python 3",
   "language": "python",
   "name": "python3"
  },
  "language_info": {
   "codemirror_mode": {
    "name": "ipython",
    "version": 3
   },
   "file_extension": ".py",
   "mimetype": "text/x-python",
   "name": "python",
   "nbconvert_exporter": "python",
   "pygments_lexer": "ipython3",
   "version": "3.6.4"
  }
 },
 "nbformat": 4,
 "nbformat_minor": 2
}
