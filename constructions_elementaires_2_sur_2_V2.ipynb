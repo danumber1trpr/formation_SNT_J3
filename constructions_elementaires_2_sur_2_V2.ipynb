{
 "cells": [
  {
   "cell_type": "markdown",
   "metadata": {},
   "source": [
    "# Séquence 1-A : Constructions élémentaires - partie 2/2\n",
    "\n",
    "Outre les cinq constructions élémentaires vues en partie 1 (séquences, affectations, conditionnelle <code>if</code>, boucle bornée <code>for</code> et boucle non bornée <code>while</code>), il existe une dernière construction élémentaire primordiale : il s'agit des fonctions.\n",
    "\n",
    "Les fonctions sont primordiales car elles permettent :\n",
    "- d'une part de réutiliser du code. On peut ainsi diminuer le nombre de lignes d'un programme. \n",
    "- d'autre part d'identifier et de nommer la fonctionnalité d'un morceau de code. On facilite ainsi la compréhension du programme dans son ensemble.\n",
    "- enfin, lors de l'élaboration d'un programme, le fait de séparer son code en plusieurs fonctions va permettre de diviser un gros problème en plusieurs petits problèmes. Cela permet de faciliter la résolution.\n",
    "\n",
    "\n",
    "# A : Exemples d'**appels** de fonctions\n",
    "### A - Exemple 1\n",
    "Vous avez déjà utilisé des fonctions : par exemple la méthode <code>randint</code> du module <code>random</code> est une fonction (exécuter plusieurs fois la cellule ci-dessous) :"
   ]
  },
  {
   "cell_type": "code",
   "execution_count": 5,
   "metadata": {},
   "outputs": [
    {
     "name": "stdout",
     "output_type": "stream",
     "text": [
      "110\n"
     ]
    }
   ],
   "source": [
    "import random\n",
    "\n",
    "x = random.randint(100, 200)\n",
    "print(x)"
   ]
  },
  {
   "cell_type": "markdown",
   "metadata": {},
   "source": [
    "- Lorsqu'on a besoin d'utiliser la fonction <code>randint</code> (on dit **appeler** cette fonction), il faut lui donner deux nombres **en argument**. Dans l'exemple ci-dessus nous lui avons donné 100 et 200 comme **arguments** lors de **l'appel**.\n",
    "\n",
    "- Cette fonction **retourne** un  nombre entier aléatoire compris entre les deux bornes passées en **argument**. Ce résultat est affecté à la variable <code>x</code> dans l'exemple ci-dessus. \n",
    "\n",
    "### A - Exemple 2\n",
    "\n",
    "Voici l'exemple de la fonction <code>len</code> (exécuter plusieurs fois la cellule ci-dessous en modifiant la chaîne de caractères) :"
   ]
  },
  {
   "cell_type": "code",
   "execution_count": 6,
   "metadata": {},
   "outputs": [
    {
     "name": "stdout",
     "output_type": "stream",
     "text": [
      "7\n"
     ]
    }
   ],
   "source": [
    "l = len(\"Bonjour\")\n",
    "print(l)"
   ]
  },
  {
   "cell_type": "markdown",
   "metadata": {},
   "source": [
    "<div class=\"alert alert-info\">\n",
    "\n",
    "**Questions :**\n",
    "- Combien d'**arguments** sont nécessaires à cette fonction ?  \n",
    "*Votre réponse ici...*  \n",
    "\n",
    "\n",
    "- Quel est le **type** (entier, flottant, chaîne de caractères, booléen) de la valeur retournée par cette fonction ?  \n",
    "*Votre réponse ici...*\n",
    "\n",
    "\n",
    "- Que calcule cette fonction ?  \n",
    "*Votre réponse ici...*\n",
    "\n"
   ]
  },
  {
   "cell_type": "markdown",
   "metadata": {},
   "source": [
    "### A - Exemple 3\n",
    "Voici l'exemple de la fonction <code>chr</code> qui renvoie le caractère Unicode correspondant à l'entier passé en argument (exécuter plusieurs fois la cellule ci-dessous en testant les valeurs 97, 2322, 128512, 8364, 496, 1595) :"
   ]
  },
  {
   "cell_type": "code",
   "execution_count": 25,
   "metadata": {},
   "outputs": [
    {
     "name": "stdout",
     "output_type": "stream",
     "text": [
      "ػ\n"
     ]
    }
   ],
   "source": [
    "S = chr(1595)\n",
    "print(S)"
   ]
  },
  {
   "cell_type": "markdown",
   "metadata": {},
   "source": [
    "<div class=\"alert alert-info\">\n",
    "\n",
    "**Questions :**\n",
    "- Combien d'**arguments** sont nécessaires à cette fonction ?  \n",
    "*Votre réponse ici...*  \n",
    "\n",
    "\n",
    "- Quel est le **type** (entier, flottant, chaîne de caractères, booléen) de la valeur retournée par cette fonction ?  \n",
    "*Votre réponse ici...*\n",
    "\n",
    "\n",
    "- Quel est le plus grand nombre qu'on peut lui passer en **argument** avant d'obtenir une erreur ?  \n",
    "*Votre réponse ici...*\n",
    "\n"
   ]
  },
  {
   "cell_type": "markdown",
   "metadata": {},
   "source": [
    "### A - Exemple 4\n",
    "Voici l'exemple de la fonction <code>pow</code> (exécuter plusieurs fois la cellule ci-dessous en modifiant les arguments) :"
   ]
  },
  {
   "cell_type": "code",
   "execution_count": 1,
   "metadata": {},
   "outputs": [
    {
     "name": "stdout",
     "output_type": "stream",
     "text": [
      "100000\n"
     ]
    }
   ],
   "source": [
    "r = pow(10, 5)\n",
    "print(r)"
   ]
  },
  {
   "cell_type": "markdown",
   "metadata": {},
   "source": [
    "<div class=\"alert alert-info\">\n",
    "\n",
    "**Questions :**\n",
    "- Combien d'**arguments** sont nécessaires à cette fonction ?  \n",
    "*Votre réponse ici...*  \n",
    "\n",
    "\n",
    "- Quel est le **type** (entier, flottant, chaîne de caractères, booléen) de la valeur retournée par cette fonction ?  \n",
    "*Votre réponse ici...*\n",
    "\n",
    "\n",
    "- Que **calcule** cette fonction ?  \n",
    "*Votre réponse ici...*\n",
    "\n"
   ]
  },
  {
   "cell_type": "markdown",
   "metadata": {},
   "source": [
    "# B : Fabriquer ses propres fonctions\n",
    "\n",
    "Dans le **A** nous avons utilisé - OUPS ! - nous avons effectué des **appels** à des fonctions déjà \"toutes faites\" dans python (en anglais : *\"python built-in functions\"*). Lors de l'**appel** nous avons passé des **arguments**, suite à quoi la fonction nous a fourni une **valeur de retour**.\n",
    "\n",
    "De point de vue de celui qui utilise - OUPS ! - de celui qui **appelle** une fonction, on peut donc voir les choses comme ceci (nous avons pris l'exemple de la fonction <code>chr</code>) :\n",
    "![schéma appels de fonction chr](.\\images\\fonction_chr.png)\n",
    "\n",
    "Ces cinq exemples conduisent au schéma plus abstrait ci-dessous où l'on a précisé les **types** des **argument** et **valeur de retour** :\n",
    "![schéma appels de fonction chr n°2](.\\images\\fonction_chr_V2.png)\n",
    "\n",
    "Si c'est vous qui aviez programmé la fonction <code>chr</code> en langage python, il vous aurait fallu **définir** grâce à une séquence d'instructions cette fonction. Cette séquence d'instructions aurait dû vérifier la syntaxe suivante :\n",
    "- commencer par une ligne avec :\n",
    "    - le mot réservé <code>def</code> (pour definition)\n",
    "    - suivi du nom de la fonction (ici <code>chr</code>)\n",
    "    - suivi d'une paire de parenthèses et de deux points\n",
    "    - avec si besoin les noms des **paramètres** correspondant aux arguments dans les parenthèses\n",
    "- finir par une ligne avec : \n",
    "    - le mot réservé <code>return</code> (pour valeur de retour)\n",
    "    - suivi du nom de la variable contenant la chaîne de caractères à retourner\n",
    "\n",
    "Ce qui correspond au achéma suivant :\n",
    "![schéma appels de fonction chr n°3](.\\images\\fonction_chr_V3.png)\n",
    "\n",
    "**Attention :**  \n",
    "Ce schéma est fondamental dans le sens où il vous montre qu'on définit une seule fois une fonction avec un ou plusieurs noms de variables en **paramètres** (dans les parenthèses : ici c'est <code>k</code>).   \n",
    "Il vous montre aussi qu'il n'y a qu'une variable dont la valeur est retournée (après le mot réservé <code>return</code>, ici c'est <code>S</code>).  \n",
    "Enfin, on peut appeler autant de fois que l'on veut cette fonction  avec des **arguments** (ici 1595, 496, 128512 ...),  qui vont devenir les valeurs des paramètres dans le code définissant la fonction. \n",
    "\n",
    "*Remarque pour les experts qui sont très à l'aise :* demander à l'enseignant si c'est vraiment ainsi que sont codées les \"built-in functions\" en python.\n",
    "\n",
    "\n",
    "### B - Exemple 1 : fonction <code>car_suivant</code>\n",
    "\n",
    "Voici ci-dessous la définition d'une fonction <code>car_suivant</code>. **On ne vous demande pas de lire les lignes 4 à 9 !**"
   ]
  },
  {
   "cell_type": "markdown",
   "metadata": {},
   "source": [
    "<div class=\"alert alert-info\">\n",
    "\n",
    "**Questions :**  \n",
    "- Retourner lire au-dessus et vérifier que, sur le schéma, vous avez fait la différence entre les paramètres et les arguments.  \n",
    "\n",
    "\n",
    "- Quel est le nom de variable utilisé en paramètres de <code>car_suivant</code> ?  \n",
    "*Votre réponse ici...*\n",
    "\n",
    "\n",
    "- Quel est le nom de variable utilisé en valeur de retour ?  \n",
    "*Votre réponse ici...*"
   ]
  },
  {
   "cell_type": "code",
   "execution_count": null,
   "metadata": {},
   "outputs": [],
   "source": [
    "import string\n",
    "\n",
    "def car_suivant(car):\n",
    "    numero_entree = string.ascii_lowercase.index(car) #on récupère le numéro du caractère dans l'aphabet\n",
    "    if numero_entree == 25:                 #selon le numéro du caractère, on calcule le numéro du caractère suivant\n",
    "        numero_sortie = 0\n",
    "    else:\n",
    "        numero_sortie = numero_entree + 1\n",
    "    caractere_sortie = string.ascii_lowercase[numero_sortie]  #on récupère le caractère correspondant au numéro suivant.\n",
    "    return caractere_sortie"
   ]
  },
  {
   "cell_type": "markdown",
   "metadata": {},
   "source": [
    "<div class=\"alert alert-info\">\n",
    "\n",
    "**Question :**  \n",
    "Effectuer plusieurs appels à cette fonction en lui passant en argument **un seul** caractère minuscule (par exemple <code>'a', 'f', 'o', 'w' ...</code>) afin de deviner ce que fait cette fonction.  \n",
    "*Ce que fait la fonction ... ici ...*"
   ]
  },
  {
   "cell_type": "code",
   "execution_count": null,
   "metadata": {},
   "outputs": [],
   "source": [
    "car_suivant('k')"
   ]
  },
  {
   "cell_type": "markdown",
   "metadata": {},
   "source": [
    "### B - Exemple 2 : Score d'un mot au scrabble"
   ]
  },
  {
   "cell_type": "markdown",
   "metadata": {},
   "source": [
    "<div class=\"alert alert-info\">\n",
    "\n",
    "**Question :**\n",
    "\n",
    "La fonction <code>score_lettre</code> ci-dessous permet de calculer le score d'une lettre (**pas d'un mot !**) au Scrabble selon le barème ci-dessous :\n",
    "- 1 point : e, a, i , n, o, r, s, t, u, l\n",
    "- 2 points : d, m, g\n",
    "- 3 points : b, c, p\n",
    "- 4 points : f, h, v\n",
    "- 8 points : j, q\n",
    "- 10 points : k, w, x, y, z\n",
    "\n",
    "Malheureusement elle est incomplète.\n",
    "\n",
    "- Combien de **paramètres** cette fonction admet-elle ?  De quel **type** (entier, booléen, chaîne de caractères, flottant) ?  \n",
    "*Votre réponse ici...*\n",
    "\n",
    "\n",
    "- Traduire les lignes 3 à 6 en langage naturel.  \n",
    "*Votre réponse ici...*\n",
    "\n",
    "\n",
    "- Compléter le code **définissant** la fonction.  "
   ]
  },
  {
   "cell_type": "code",
   "execution_count": null,
   "metadata": {},
   "outputs": [],
   "source": [
    "def score_lettre(car):\n",
    "    '''Retourne le nombre de points au Scrabble du caractère car (en minuscule).'''\n",
    "    if car in \"eainorstul\":\n",
    "        score = 1\n",
    "    elif car in \"dmg\":\n",
    "        score = 2\n",
    "    #finir le code de la fonction"
   ]
  },
  {
   "cell_type": "markdown",
   "metadata": {},
   "source": [
    "<div class=\"alert alert-info\">\n",
    "\n",
    "**Question :**\n",
    "\n",
    "Testez le fonctionnement de votre fonction grâce à plusieurs **appels** avec des **arguments** différents."
   ]
  },
  {
   "cell_type": "code",
   "execution_count": null,
   "metadata": {},
   "outputs": [],
   "source": [
    "#Réalisez vos appels de fonction ici ..."
   ]
  },
  {
   "cell_type": "markdown",
   "metadata": {},
   "source": [
    "<div class=\"alert alert-info\">\n",
    "\n",
    "**Question :**\n",
    "\n",
    "**Définir** une fonction <code>score_mot</code> qui permet de calculer le score d'un mot au Scrabble. Pour cela vous utiliserez la fonction <code>score_lettre</code> définie ci-dessus. Vous utiliserez également une boucle ..."
   ]
  },
  {
   "cell_type": "code",
   "execution_count": null,
   "metadata": {},
   "outputs": [],
   "source": [
    "# à vous de créer la fonction score_mot ..."
   ]
  },
  {
   "cell_type": "markdown",
   "metadata": {},
   "source": [
    "<div class=\"alert alert-info\">\n",
    "\n",
    "**Question :**\n",
    "\n",
    "Testez le fonctionnement de votre fonction grâce à plusieurs **appels** avec des arguments différents."
   ]
  },
  {
   "cell_type": "code",
   "execution_count": null,
   "metadata": {},
   "outputs": [],
   "source": [
    "#Réalisez vos appels de fonction ici ..."
   ]
  },
  {
   "cell_type": "markdown",
   "metadata": {},
   "source": [
    "### B - Exemple 3 : Conversion de secondes en heures, minutes, secondes\n",
    "\n",
    "Pour cet exemple, nous allons avoir besoin de deux opérateurs arithmétiques qu'il conviendra de maîtriser. Ces deux opérateurs sont le **quotient : <code>//</code>** et le **modulo : <code>%</code>**.\n",
    "\n",
    "La définition usuelle consiste à dire que ces opérateurs sont le quotient et le reste obtenus lors d'une **division euclidienne** (les divisions que vous faisiez à l'école primaire). Par exemple on a : 53//10=5 et : 53%10=3. Autrement dit quand on effectue la division euclidienne de 53 par 10, on obtient 5 reste 3.\n",
    "\n",
    "**Remarque : 53%10 se lit \"53 modulo 10\"**\n"
   ]
  },
  {
   "cell_type": "markdown",
   "metadata": {},
   "source": [
    "<div class=\"alert alert-info\">\n",
    "\n",
    "**Questions :**\n",
    "\n",
    "- Testez votre compréhension sur les exemples ci-dessous :\n",
    "    - 67//6 = ...    et 67%6 = ...\n",
    "    - 12//5 = ...    et 12%5 = ...\n",
    "    - 17//2 = ...    et 17%2 = ...\n",
    "    - 16//2 = ...    et 16%2 = ...\n",
    "    - 612//60 = ...  et 612%60 = ...\n",
    "\n",
    "\n",
    "- En observant l'exemple 5, quelle est la conversion en minutes et secondes de 612 secondes ?  \n",
    "*Votre réponse ici...*  \n",
    "\n",
    "\n",
    "- Plus généralement, exprimer à l'aide de <code>//</code> et <code>%</code> la conversion en minutes et secondes de <code>x</code> secondes.  \n",
    "*Votre réponse ici...*  \n",
    "\n",
    "\n",
    "- Il est important de voir les quotients et modulos successifs des entiers de 0 à 100 par exemple. Exécutez les deux cellules ci-dessous en modifiant les valeurs de <code>d</code> pour bien voir que :\n",
    "    - les quotients successifs augmentent \"par paliers\",\n",
    "    - les modulos successifs augmentent de un en un en bouclant par un retour à zéro périodique.  \n",
    "    Si jamais vous avez un jour besoin d'un nombre qui \"boucle\" périodiquement vous saurez que l'opérateur <code>%</code> est là pour ça ..."
   ]
  },
  {
   "cell_type": "code",
   "execution_count": null,
   "metadata": {},
   "outputs": [],
   "source": [
    "d = 7\n",
    "print(\"Dans la colonne tout à droite les quotients successifs\")\n",
    "for i in range(101):\n",
    "    print('{:3d}'.format(i), \" // \", d, \" = \", i//d)"
   ]
  },
  {
   "cell_type": "code",
   "execution_count": null,
   "metadata": {},
   "outputs": [],
   "source": [
    "d = 7\n",
    "print(\"Dans la colonne tout à droite les restes (ou modulos) successifs\")\n",
    "for i in range(101):\n",
    "    print('{:3d}'.format(i), \" % \", d, \" = \", i%d)"
   ]
  },
  {
   "cell_type": "markdown",
   "metadata": {},
   "source": [
    "<div class=\"alert alert-info\">\n",
    "\n",
    "**Question :**\n",
    "\n",
    "**Définissez** ci-dessous une fonction <code>conversion</code> prenant en argument un nombre entier positif <code>x</code> de secondes et retournant trois nombres <code>h, m, s</code> tels que <code>x</code> secondes correspondent à <code>h</code> heures <code>m</code> minutes et <code>s</code> secondes avec <code>0<= m <= 59</code> et  <code>0 <=s <=59</code>\n",
    "\n",
    "*Remarque :* Pour retourner le triplet de trois nombres <code>h, m, s</code> on utilisera l'instruction <code>return (h, m, s)</code>"
   ]
  },
  {
   "cell_type": "code",
   "execution_count": null,
   "metadata": {},
   "outputs": [],
   "source": [
    "#Définissez votre fonction ici ..."
   ]
  },
  {
   "cell_type": "markdown",
   "metadata": {},
   "source": [
    "<div class=\"alert alert-info\">\n",
    "\n",
    "**Question :**\n",
    "\n",
    "Testez le fonctionnement de votre fonction grâce à plusieurs **appels** avec des valeurs de <code>x</code> différentes."
   ]
  },
  {
   "cell_type": "code",
   "execution_count": null,
   "metadata": {},
   "outputs": [],
   "source": [
    "#Réalisez vos appels de fonction ici ..."
   ]
  },
  {
   "cell_type": "markdown",
   "metadata": {},
   "source": [
    "# Conclusion : Les fonctions en python : première synthèse"
   ]
  },
  {
   "cell_type": "code",
   "execution_count": null,
   "metadata": {},
   "outputs": [],
   "source": [
    "def ma_fonction(x):\n",
    "    '''Calcule l'image de x par la fonction mathématiques f:x -> 3x+1'''\n",
    "    y = 3*x+1\n",
    "    return y"
   ]
  },
  {
   "cell_type": "markdown",
   "metadata": {},
   "source": [
    "<code>def</code> est un mot clef du langage python qui permet de *définir* une fonction.  La fonction <code>ma_fonction</code> prend ici un seul *paramètre* <code>x</code>. La fonction retourne ici une valeur grâce au mot clef <code>return</code> qui met également fin à la fonction.  \n",
    "\n",
    "\n",
    "Pour *appeler* cette fonction il suffit d'utiliser son nom suivi de l'*argument* souhaité pour remplacer le *paramètre* :"
   ]
  },
  {
   "cell_type": "code",
   "execution_count": null,
   "metadata": {},
   "outputs": [],
   "source": [
    "ma_fonction(10)"
   ]
  },
  {
   "cell_type": "markdown",
   "metadata": {},
   "source": [
    "Les variables <code>x</code> et <code>y</code> utilisées à l'intérieur de la fonction sont invisibles à l'extérieur de la fonction :"
   ]
  },
  {
   "cell_type": "code",
   "execution_count": null,
   "metadata": {
    "scrolled": true
   },
   "outputs": [],
   "source": [
    "y"
   ]
  },
  {
   "cell_type": "markdown",
   "metadata": {},
   "source": [
    "Une chose que nous n'avons pas encore évoquée est qu'après une instruction <code>return</code>, l'exécution de la fonction est stoppée (on dit que <code>return</code> fait sortir de la fonction). Toutes les instructions situées ensuite ne sont pas exécutées :"
   ]
  },
  {
   "cell_type": "code",
   "execution_count": null,
   "metadata": {},
   "outputs": [],
   "source": [
    "def h(x):\n",
    "    print(\"Début de la fonction\")\n",
    "    print(\"Juste après le début de la fonction\")\n",
    "    y = x + 7\n",
    "    print(\"Juste après le calcul de y\")\n",
    "    print(\"Juste avant le return\")\n",
    "    return y\n",
    "    print(\"Après le return ... non affiché car non exécuté lors de l'appel de fonction\")\n",
    "\n",
    "h(10)"
   ]
  },
  {
   "cell_type": "markdown",
   "metadata": {},
   "source": [
    "Enfin, comme nous l'avons déjà vu, une fonction peut prendre plusieurs *paramètres* (ou aucun) et peut ne retourner aucune valeur."
   ]
  },
  {
   "cell_type": "markdown",
   "metadata": {},
   "source": [
    "# Pour aller plus loin : codage de César \n",
    "\n",
    "On souhaite créer un programme qui permet de mettre en place le [chiffrement par décalage](https://fr.wikipedia.org/wiki/Chiffrement_par_d%C3%A9calage). On se restreint au décalage d'une unité sur des textes en minuscules.  \n",
    "Cela consiste donc à remplacer, dans un texte, les 'a' par des 'b', les 'b' par des 'c', les 'c' par des 'd' etc. Ainsi 'bonjour' devient 'cpokpvs'.\n",
    "\n",
    "Ce programme peut être vu sous la forme d'une fonction. Si on donne le nom <code>chiffrer_dec</code> à cette fonction, sans rentrer dans les détails techniques, on peut voir cette fonction de la sorte :\n",
    "![schéma boîte fonctionnelle](.\\images\\chiffrer_dec.png)\n",
    "\n",
    "Si on se penche sur le codage de cette fonction <code>chiffrer_dec</code>, on se rend rapidement compte qu'un algorithme en langage naturel pourrait être :\n",
    "<pre>\n",
    "S' = \"\"\n",
    "Pour chaque caractère c de S:\n",
    "    c' = caractère suivant le caractère c dans l'alphabet\n",
    "    ajouter c' à droite de S'\n",
    "retourner S'\n",
    "</pre>\n",
    "L'algorithme ci-dessus fait émerger naturellement une autre fonction : la fonction <code>car_suivant</code> qui a été vue plus haut dans l'exemple 1.  \n",
    "Quant au fait d'ajouter un caractère à droite d'une chaîne de caractères, c'est très simple :"
   ]
  },
  {
   "cell_type": "code",
   "execution_count": 5,
   "metadata": {},
   "outputs": [
    {
     "name": "stdout",
     "output_type": "stream",
     "text": [
      "ABCDEF\n"
     ]
    }
   ],
   "source": [
    "S = \"ABCDE\"\n",
    "C = \"F\"\n",
    "S_sortie = S + C\n",
    "print(S_sortie)"
   ]
  },
  {
   "cell_type": "markdown",
   "metadata": {},
   "source": [
    "<div class=\"alert alert-info\">\n",
    "\n",
    "**Question :**\n",
    "\n",
    "Il est temps de **définir** notre fonction <code>chiffrer_dec</code> : à vous de compléter les trois lignes manquantes avant de tester que cela fonctionne grâce à des **appels** de fonction."
   ]
  },
  {
   "cell_type": "code",
   "execution_count": null,
   "metadata": {},
   "outputs": [],
   "source": [
    "def chiffrer_dec(S):\n",
    "    '''Retourne une chaîne de caractères obtenue en chiffrant la chaîne de caractères S par décalage de une unité.'''\n",
    "    S_sortie = \"\"\n",
    "    #\n",
    "    # 3 lignes à compléter\n",
    "    #\n",
    "    return S_sortie"
   ]
  },
  {
   "cell_type": "code",
   "execution_count": null,
   "metadata": {},
   "outputs": [],
   "source": [
    "#Vos appels de fonction ici ..."
   ]
  }
 ],
 "metadata": {
  "kernelspec": {
   "display_name": "Python 3",
   "language": "python",
   "name": "python3"
  },
  "language_info": {
   "codemirror_mode": {
    "name": "ipython",
    "version": 3
   },
   "file_extension": ".py",
   "mimetype": "text/x-python",
   "name": "python",
   "nbconvert_exporter": "python",
   "pygments_lexer": "ipython3",
   "version": "3.6.4"
  }
 },
 "nbformat": 4,
 "nbformat_minor": 2
}
